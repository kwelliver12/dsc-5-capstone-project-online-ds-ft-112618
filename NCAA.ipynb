{
 "cells": [
  {
   "cell_type": "code",
   "execution_count": 1,
   "metadata": {},
   "outputs": [],
   "source": [
    "import pandas as pd\n",
    "import numpy as np\n",
    "from sklearn.model_selection import train_test_split, cross_val_score\n",
    "from sklearn.tree import DecisionTreeClassifier\n",
    "from sklearn.ensemble import BaggingClassifier, RandomForestClassifier\n",
    "import matplotlib.pyplot as plt\n",
    "from sklearn.linear_model import LinearRegression\n",
    "from sklearn.linear_model import LogisticRegression\n",
    "linreg = LinearRegression()\n",
    "from statsmodels.formula.api import ols\n",
    "import seaborn as sns\n",
    "from sklearn.metrics import confusion_matrix\n",
    "from sklearn.metrics import roc_curve, auc\n",
    "%matplotlib inline\n",
    "import itertools\n",
    "\n",
    "import warnings\n",
    "warnings.filterwarnings('ignore')"
   ]
  },
  {
   "cell_type": "code",
   "execution_count": 2,
   "metadata": {},
   "outputs": [
    {
     "name": "stdout",
     "output_type": "stream",
     "text": [
      "(29805, 133)\n"
     ]
    }
   ],
   "source": [
    "# import dataset, view shape to see number of columns\n",
    "df = pd.read_csv('ncaa_stats.csv')\n",
    "print(df.shape)"
   ]
  },
  {
   "cell_type": "code",
   "execution_count": 3,
   "metadata": {},
   "outputs": [
    {
     "data": {
      "text/html": [
       "<div>\n",
       "<style scoped>\n",
       "    .dataframe tbody tr th:only-of-type {\n",
       "        vertical-align: middle;\n",
       "    }\n",
       "\n",
       "    .dataframe tbody tr th {\n",
       "        vertical-align: top;\n",
       "    }\n",
       "\n",
       "    .dataframe thead th {\n",
       "        text-align: right;\n",
       "    }\n",
       "</style>\n",
       "<table border=\"1\" class=\"dataframe\">\n",
       "  <thead>\n",
       "    <tr style=\"text-align: right;\">\n",
       "      <th></th>\n",
       "      <th>Unnamed: 0</th>\n",
       "      <th>game_id</th>\n",
       "      <th>season</th>\n",
       "      <th>status</th>\n",
       "      <th>coverage</th>\n",
       "      <th>neutral_site</th>\n",
       "      <th>scheduled_date</th>\n",
       "      <th>gametime</th>\n",
       "      <th>conference_game</th>\n",
       "      <th>tournament</th>\n",
       "      <th>...</th>\n",
       "      <th>a_fast_break_pts</th>\n",
       "      <th>a_second_chance_pts</th>\n",
       "      <th>a_team_turnovers</th>\n",
       "      <th>a_points_off_turnovers</th>\n",
       "      <th>a_team_rebounds</th>\n",
       "      <th>a_flagrant_fouls</th>\n",
       "      <th>a_player_tech_fouls</th>\n",
       "      <th>a_team_tech_fouls</th>\n",
       "      <th>a_coach_tech_fouls</th>\n",
       "      <th>created</th>\n",
       "    </tr>\n",
       "  </thead>\n",
       "  <tbody>\n",
       "    <tr>\n",
       "      <th>0</th>\n",
       "      <td>0</td>\n",
       "      <td>b4451a02-26c5-4005-9ac8-b06c1f71e661</td>\n",
       "      <td>2015</td>\n",
       "      <td>closed</td>\n",
       "      <td>full</td>\n",
       "      <td>NaN</td>\n",
       "      <td>2015-11-24</td>\n",
       "      <td>2015-11-24 21:30:00+00:00</td>\n",
       "      <td>NaN</td>\n",
       "      <td>NaN</td>\n",
       "      <td>...</td>\n",
       "      <td>36.0</td>\n",
       "      <td>17.0</td>\n",
       "      <td>0.0</td>\n",
       "      <td>31.0</td>\n",
       "      <td>5.0</td>\n",
       "      <td>0.0</td>\n",
       "      <td>0.0</td>\n",
       "      <td>0.0</td>\n",
       "      <td>0.0</td>\n",
       "      <td>2018-02-20 15:48:58+00:00</td>\n",
       "    </tr>\n",
       "    <tr>\n",
       "      <th>1</th>\n",
       "      <td>1</td>\n",
       "      <td>b2f579ca-9eff-4b2b-a747-81169399c2e8</td>\n",
       "      <td>2015</td>\n",
       "      <td>closed</td>\n",
       "      <td>full</td>\n",
       "      <td>NaN</td>\n",
       "      <td>2015-11-24</td>\n",
       "      <td>2015-11-24 02:00:00+00:00</td>\n",
       "      <td>NaN</td>\n",
       "      <td>NaN</td>\n",
       "      <td>...</td>\n",
       "      <td>16.0</td>\n",
       "      <td>25.0</td>\n",
       "      <td>0.0</td>\n",
       "      <td>25.0</td>\n",
       "      <td>1.0</td>\n",
       "      <td>0.0</td>\n",
       "      <td>0.0</td>\n",
       "      <td>0.0</td>\n",
       "      <td>0.0</td>\n",
       "      <td>2018-02-20 15:48:53+00:00</td>\n",
       "    </tr>\n",
       "    <tr>\n",
       "      <th>2</th>\n",
       "      <td>2</td>\n",
       "      <td>571be71c-a5bf-446e-bf21-30eb6c54ac5e</td>\n",
       "      <td>2015</td>\n",
       "      <td>closed</td>\n",
       "      <td>full</td>\n",
       "      <td>NaN</td>\n",
       "      <td>2015-11-25</td>\n",
       "      <td>2015-11-25 19:30:00+00:00</td>\n",
       "      <td>NaN</td>\n",
       "      <td>NaN</td>\n",
       "      <td>...</td>\n",
       "      <td>6.0</td>\n",
       "      <td>6.0</td>\n",
       "      <td>0.0</td>\n",
       "      <td>12.0</td>\n",
       "      <td>0.0</td>\n",
       "      <td>0.0</td>\n",
       "      <td>0.0</td>\n",
       "      <td>0.0</td>\n",
       "      <td>0.0</td>\n",
       "      <td>2018-02-20 15:48:58+00:00</td>\n",
       "    </tr>\n",
       "    <tr>\n",
       "      <th>3</th>\n",
       "      <td>3</td>\n",
       "      <td>d6617923-0b23-49e4-af9b-9e4d0243e45c</td>\n",
       "      <td>2015</td>\n",
       "      <td>closed</td>\n",
       "      <td>full</td>\n",
       "      <td>NaN</td>\n",
       "      <td>2015-12-19</td>\n",
       "      <td>2015-12-19 04:00:00+00:00</td>\n",
       "      <td>NaN</td>\n",
       "      <td>NaN</td>\n",
       "      <td>...</td>\n",
       "      <td>2.0</td>\n",
       "      <td>13.0</td>\n",
       "      <td>1.0</td>\n",
       "      <td>15.0</td>\n",
       "      <td>3.0</td>\n",
       "      <td>0.0</td>\n",
       "      <td>0.0</td>\n",
       "      <td>0.0</td>\n",
       "      <td>0.0</td>\n",
       "      <td>2018-02-20 15:48:53+00:00</td>\n",
       "    </tr>\n",
       "    <tr>\n",
       "      <th>4</th>\n",
       "      <td>4</td>\n",
       "      <td>ffb463a4-dd3c-4ed9-b503-311b95ef0295</td>\n",
       "      <td>2015</td>\n",
       "      <td>closed</td>\n",
       "      <td>full</td>\n",
       "      <td>NaN</td>\n",
       "      <td>2015-12-20</td>\n",
       "      <td>2015-12-20 04:00:00+00:00</td>\n",
       "      <td>NaN</td>\n",
       "      <td>NaN</td>\n",
       "      <td>...</td>\n",
       "      <td>6.0</td>\n",
       "      <td>7.0</td>\n",
       "      <td>0.0</td>\n",
       "      <td>NaN</td>\n",
       "      <td>0.0</td>\n",
       "      <td>0.0</td>\n",
       "      <td>0.0</td>\n",
       "      <td>0.0</td>\n",
       "      <td>0.0</td>\n",
       "      <td>2018-02-20 15:48:53+00:00</td>\n",
       "    </tr>\n",
       "  </tbody>\n",
       "</table>\n",
       "<p>5 rows × 133 columns</p>\n",
       "</div>"
      ],
      "text/plain": [
       "   Unnamed: 0                               game_id  season  status coverage  \\\n",
       "0           0  b4451a02-26c5-4005-9ac8-b06c1f71e661    2015  closed     full   \n",
       "1           1  b2f579ca-9eff-4b2b-a747-81169399c2e8    2015  closed     full   \n",
       "2           2  571be71c-a5bf-446e-bf21-30eb6c54ac5e    2015  closed     full   \n",
       "3           3  d6617923-0b23-49e4-af9b-9e4d0243e45c    2015  closed     full   \n",
       "4           4  ffb463a4-dd3c-4ed9-b503-311b95ef0295    2015  closed     full   \n",
       "\n",
       "  neutral_site scheduled_date                   gametime conference_game  \\\n",
       "0          NaN     2015-11-24  2015-11-24 21:30:00+00:00             NaN   \n",
       "1          NaN     2015-11-24  2015-11-24 02:00:00+00:00             NaN   \n",
       "2          NaN     2015-11-25  2015-11-25 19:30:00+00:00             NaN   \n",
       "3          NaN     2015-12-19  2015-12-19 04:00:00+00:00             NaN   \n",
       "4          NaN     2015-12-20  2015-12-20 04:00:00+00:00             NaN   \n",
       "\n",
       "  tournament  ... a_fast_break_pts a_second_chance_pts a_team_turnovers  \\\n",
       "0        NaN  ...             36.0                17.0              0.0   \n",
       "1        NaN  ...             16.0                25.0              0.0   \n",
       "2        NaN  ...              6.0                 6.0              0.0   \n",
       "3        NaN  ...              2.0                13.0              1.0   \n",
       "4        NaN  ...              6.0                 7.0              0.0   \n",
       "\n",
       "   a_points_off_turnovers  a_team_rebounds  a_flagrant_fouls  \\\n",
       "0                    31.0              5.0               0.0   \n",
       "1                    25.0              1.0               0.0   \n",
       "2                    12.0              0.0               0.0   \n",
       "3                    15.0              3.0               0.0   \n",
       "4                     NaN              0.0               0.0   \n",
       "\n",
       "   a_player_tech_fouls a_team_tech_fouls a_coach_tech_fouls  \\\n",
       "0                  0.0               0.0                0.0   \n",
       "1                  0.0               0.0                0.0   \n",
       "2                  0.0               0.0                0.0   \n",
       "3                  0.0               0.0                0.0   \n",
       "4                  0.0               0.0                0.0   \n",
       "\n",
       "                     created  \n",
       "0  2018-02-20 15:48:58+00:00  \n",
       "1  2018-02-20 15:48:53+00:00  \n",
       "2  2018-02-20 15:48:58+00:00  \n",
       "3  2018-02-20 15:48:53+00:00  \n",
       "4  2018-02-20 15:48:53+00:00  \n",
       "\n",
       "[5 rows x 133 columns]"
      ]
     },
     "execution_count": 3,
     "metadata": {},
     "output_type": "execute_result"
    }
   ],
   "source": [
    "df.head()"
   ]
  },
  {
   "cell_type": "code",
   "execution_count": 4,
   "metadata": {},
   "outputs": [],
   "source": [
    "df = df.drop(df.columns[df.columns.str.contains('unnamed',case = False)],axis = 1)"
   ]
  },
  {
   "cell_type": "code",
   "execution_count": 5,
   "metadata": {},
   "outputs": [],
   "source": [
    "# drop columns not relevant to project\n",
    "\n",
    "del df['status'], df['coverage'], df['gametime'], df['conference_game'], df['possession_arrow']\n",
    "del df['venue_id'], df['venue_state'], df['venue_address'], df['venue_zip'], df['venue_country']\n",
    "del df['tournament'], df['tournament_type'], df['tournament_round'], df['tournament_game_no']\n",
    "del df['h_id'], df['h_league_id'], df['h_league_name'], df['h_league_alias'], df['h_conf_id']\n",
    "del df['h_division_id'], df['h_division_name'], df['h_logo_large'], df['h_logo_medium'], df['h_logo_small']\n",
    "del df['h_points_game'], df['a_id'], df['a_league_id'], df['a_league_name'], df['a_league_alias']\n",
    "del df['a_conf_id'], df['a_division_id'], df['a_division_name'], df['a_logo_large'], df['a_logo_medium']\n",
    "del df['a_logo_small'], df['a_points_game'], df['created']\n"
   ]
  },
  {
   "cell_type": "code",
   "execution_count": 6,
   "metadata": {},
   "outputs": [
    {
     "name": "stdout",
     "output_type": "stream",
     "text": [
      "(29805, 95)\n"
     ]
    },
    {
     "data": {
      "text/html": [
       "<div>\n",
       "<style scoped>\n",
       "    .dataframe tbody tr th:only-of-type {\n",
       "        vertical-align: middle;\n",
       "    }\n",
       "\n",
       "    .dataframe tbody tr th {\n",
       "        vertical-align: top;\n",
       "    }\n",
       "\n",
       "    .dataframe thead th {\n",
       "        text-align: right;\n",
       "    }\n",
       "</style>\n",
       "<table border=\"1\" class=\"dataframe\">\n",
       "  <thead>\n",
       "    <tr style=\"text-align: right;\">\n",
       "      <th></th>\n",
       "      <th>game_id</th>\n",
       "      <th>season</th>\n",
       "      <th>neutral_site</th>\n",
       "      <th>scheduled_date</th>\n",
       "      <th>attendance</th>\n",
       "      <th>lead_changes</th>\n",
       "      <th>times_tied</th>\n",
       "      <th>periods</th>\n",
       "      <th>venue_city</th>\n",
       "      <th>venue_name</th>\n",
       "      <th>...</th>\n",
       "      <th>a_points</th>\n",
       "      <th>a_fast_break_pts</th>\n",
       "      <th>a_second_chance_pts</th>\n",
       "      <th>a_team_turnovers</th>\n",
       "      <th>a_points_off_turnovers</th>\n",
       "      <th>a_team_rebounds</th>\n",
       "      <th>a_flagrant_fouls</th>\n",
       "      <th>a_player_tech_fouls</th>\n",
       "      <th>a_team_tech_fouls</th>\n",
       "      <th>a_coach_tech_fouls</th>\n",
       "    </tr>\n",
       "  </thead>\n",
       "  <tbody>\n",
       "    <tr>\n",
       "      <th>0</th>\n",
       "      <td>b4451a02-26c5-4005-9ac8-b06c1f71e661</td>\n",
       "      <td>2015</td>\n",
       "      <td>NaN</td>\n",
       "      <td>2015-11-24</td>\n",
       "      <td>2400.0</td>\n",
       "      <td>3.0</td>\n",
       "      <td>2.0</td>\n",
       "      <td>2.0</td>\n",
       "      <td>Maui</td>\n",
       "      <td>Lahaina Civic Center</td>\n",
       "      <td>...</td>\n",
       "      <td>93.0</td>\n",
       "      <td>36.0</td>\n",
       "      <td>17.0</td>\n",
       "      <td>0.0</td>\n",
       "      <td>31.0</td>\n",
       "      <td>5.0</td>\n",
       "      <td>0.0</td>\n",
       "      <td>0.0</td>\n",
       "      <td>0.0</td>\n",
       "      <td>0.0</td>\n",
       "    </tr>\n",
       "    <tr>\n",
       "      <th>1</th>\n",
       "      <td>b2f579ca-9eff-4b2b-a747-81169399c2e8</td>\n",
       "      <td>2015</td>\n",
       "      <td>NaN</td>\n",
       "      <td>2015-11-24</td>\n",
       "      <td>2400.0</td>\n",
       "      <td>1.0</td>\n",
       "      <td>0.0</td>\n",
       "      <td>2.0</td>\n",
       "      <td>Maui</td>\n",
       "      <td>Lahaina Civic Center</td>\n",
       "      <td>...</td>\n",
       "      <td>123.0</td>\n",
       "      <td>16.0</td>\n",
       "      <td>25.0</td>\n",
       "      <td>0.0</td>\n",
       "      <td>25.0</td>\n",
       "      <td>1.0</td>\n",
       "      <td>0.0</td>\n",
       "      <td>0.0</td>\n",
       "      <td>0.0</td>\n",
       "      <td>0.0</td>\n",
       "    </tr>\n",
       "    <tr>\n",
       "      <th>2</th>\n",
       "      <td>571be71c-a5bf-446e-bf21-30eb6c54ac5e</td>\n",
       "      <td>2015</td>\n",
       "      <td>NaN</td>\n",
       "      <td>2015-11-25</td>\n",
       "      <td>2400.0</td>\n",
       "      <td>2.0</td>\n",
       "      <td>0.0</td>\n",
       "      <td>2.0</td>\n",
       "      <td>Maui</td>\n",
       "      <td>Lahaina Civic Center</td>\n",
       "      <td>...</td>\n",
       "      <td>100.0</td>\n",
       "      <td>6.0</td>\n",
       "      <td>6.0</td>\n",
       "      <td>0.0</td>\n",
       "      <td>12.0</td>\n",
       "      <td>0.0</td>\n",
       "      <td>0.0</td>\n",
       "      <td>0.0</td>\n",
       "      <td>0.0</td>\n",
       "      <td>0.0</td>\n",
       "    </tr>\n",
       "    <tr>\n",
       "      <th>3</th>\n",
       "      <td>d6617923-0b23-49e4-af9b-9e4d0243e45c</td>\n",
       "      <td>2015</td>\n",
       "      <td>NaN</td>\n",
       "      <td>2015-12-19</td>\n",
       "      <td>8032.0</td>\n",
       "      <td>9.0</td>\n",
       "      <td>1.0</td>\n",
       "      <td>2.0</td>\n",
       "      <td>Portland</td>\n",
       "      <td>Moda Center</td>\n",
       "      <td>...</td>\n",
       "      <td>69.0</td>\n",
       "      <td>2.0</td>\n",
       "      <td>13.0</td>\n",
       "      <td>1.0</td>\n",
       "      <td>15.0</td>\n",
       "      <td>3.0</td>\n",
       "      <td>0.0</td>\n",
       "      <td>0.0</td>\n",
       "      <td>0.0</td>\n",
       "      <td>0.0</td>\n",
       "    </tr>\n",
       "    <tr>\n",
       "      <th>4</th>\n",
       "      <td>ffb463a4-dd3c-4ed9-b503-311b95ef0295</td>\n",
       "      <td>2015</td>\n",
       "      <td>NaN</td>\n",
       "      <td>2015-12-20</td>\n",
       "      <td>8555.0</td>\n",
       "      <td>1.0</td>\n",
       "      <td>3.0</td>\n",
       "      <td>2.0</td>\n",
       "      <td>Portland</td>\n",
       "      <td>Moda Center</td>\n",
       "      <td>...</td>\n",
       "      <td>71.0</td>\n",
       "      <td>6.0</td>\n",
       "      <td>7.0</td>\n",
       "      <td>0.0</td>\n",
       "      <td>NaN</td>\n",
       "      <td>0.0</td>\n",
       "      <td>0.0</td>\n",
       "      <td>0.0</td>\n",
       "      <td>0.0</td>\n",
       "      <td>0.0</td>\n",
       "    </tr>\n",
       "  </tbody>\n",
       "</table>\n",
       "<p>5 rows × 95 columns</p>\n",
       "</div>"
      ],
      "text/plain": [
       "                                game_id  season neutral_site scheduled_date  \\\n",
       "0  b4451a02-26c5-4005-9ac8-b06c1f71e661    2015          NaN     2015-11-24   \n",
       "1  b2f579ca-9eff-4b2b-a747-81169399c2e8    2015          NaN     2015-11-24   \n",
       "2  571be71c-a5bf-446e-bf21-30eb6c54ac5e    2015          NaN     2015-11-25   \n",
       "3  d6617923-0b23-49e4-af9b-9e4d0243e45c    2015          NaN     2015-12-19   \n",
       "4  ffb463a4-dd3c-4ed9-b503-311b95ef0295    2015          NaN     2015-12-20   \n",
       "\n",
       "   attendance  lead_changes  times_tied  periods venue_city  \\\n",
       "0      2400.0           3.0         2.0      2.0       Maui   \n",
       "1      2400.0           1.0         0.0      2.0       Maui   \n",
       "2      2400.0           2.0         0.0      2.0       Maui   \n",
       "3      8032.0           9.0         1.0      2.0   Portland   \n",
       "4      8555.0           1.0         3.0      2.0   Portland   \n",
       "\n",
       "             venue_name  ...  a_points a_fast_break_pts a_second_chance_pts  \\\n",
       "0  Lahaina Civic Center  ...      93.0             36.0                17.0   \n",
       "1  Lahaina Civic Center  ...     123.0             16.0                25.0   \n",
       "2  Lahaina Civic Center  ...     100.0              6.0                 6.0   \n",
       "3           Moda Center  ...      69.0              2.0                13.0   \n",
       "4           Moda Center  ...      71.0              6.0                 7.0   \n",
       "\n",
       "  a_team_turnovers a_points_off_turnovers a_team_rebounds a_flagrant_fouls  \\\n",
       "0              0.0                   31.0             5.0              0.0   \n",
       "1              0.0                   25.0             1.0              0.0   \n",
       "2              0.0                   12.0             0.0              0.0   \n",
       "3              1.0                   15.0             3.0              0.0   \n",
       "4              0.0                    NaN             0.0              0.0   \n",
       "\n",
       "   a_player_tech_fouls a_team_tech_fouls  a_coach_tech_fouls  \n",
       "0                  0.0               0.0                 0.0  \n",
       "1                  0.0               0.0                 0.0  \n",
       "2                  0.0               0.0                 0.0  \n",
       "3                  0.0               0.0                 0.0  \n",
       "4                  0.0               0.0                 0.0  \n",
       "\n",
       "[5 rows x 95 columns]"
      ]
     },
     "execution_count": 6,
     "metadata": {},
     "output_type": "execute_result"
    }
   ],
   "source": [
    "print(df.shape)\n",
    "df.head()"
   ]
  },
  {
   "cell_type": "code",
   "execution_count": 7,
   "metadata": {},
   "outputs": [],
   "source": [
    "#list(df)"
   ]
  },
  {
   "cell_type": "markdown",
   "metadata": {},
   "source": [
    "Print and sum null values to see what columns have significant data missing. Drop columns with a significant number of null values and drop the rows containing null values in columns with low number of null values."
   ]
  },
  {
   "cell_type": "code",
   "execution_count": 8,
   "metadata": {},
   "outputs": [
    {
     "data": {
      "text/plain": [
       "game_id                         0\n",
       "season                          0\n",
       "neutral_site                17827\n",
       "scheduled_date                  0\n",
       "attendance                   5271\n",
       "lead_changes                 4338\n",
       "times_tied                   4374\n",
       "periods                        31\n",
       "venue_city                     15\n",
       "venue_name                     15\n",
       "venue_capacity                147\n",
       "h_name                          1\n",
       "h_market                        0\n",
       "h_alias                         0\n",
       "h_conf_name                     0\n",
       "h_conf_alias                    0\n",
       "h_division_alias                0\n",
       "h_rank                          0\n",
       "h_minutes                    4009\n",
       "h_field_goals_made           4009\n",
       "h_field_goals_att            4009\n",
       "h_field_goals_pct            4009\n",
       "h_three_points_made          4009\n",
       "h_three_points_att           4009\n",
       "h_three_points_pct           4009\n",
       "h_two_points_made            4009\n",
       "h_two_points_att             4009\n",
       "h_two_points_pct             4009\n",
       "h_blocked_att                4009\n",
       "h_free_throws_made           4009\n",
       "                            ...  \n",
       "a_three_points_att           4010\n",
       "a_three_points_pct           4010\n",
       "a_two_points_made            4010\n",
       "a_two_points_att             4010\n",
       "a_two_points_pct             4010\n",
       "a_blocked_att                4010\n",
       "a_free_throws_made           4010\n",
       "a_free_throws_att            4010\n",
       "a_free_throws_pct            4010\n",
       "a_offensive_rebounds         4010\n",
       "a_defensive_rebounds         4010\n",
       "a_rebounds                   4010\n",
       "a_assists                    4010\n",
       "a_turnovers                  4010\n",
       "a_steals                     4010\n",
       "a_blocks                     4010\n",
       "a_assists_turnover_ratio     4010\n",
       "a_personal_fouls             4010\n",
       "a_ejections                 11776\n",
       "a_foulouts                  17771\n",
       "a_points                     4010\n",
       "a_fast_break_pts             5989\n",
       "a_second_chance_pts          5063\n",
       "a_team_turnovers             5096\n",
       "a_points_off_turnovers       5054\n",
       "a_team_rebounds              4878\n",
       "a_flagrant_fouls             4010\n",
       "a_player_tech_fouls          4010\n",
       "a_team_tech_fouls           17768\n",
       "a_coach_tech_fouls          18581\n",
       "Length: 95, dtype: int64"
      ]
     },
     "execution_count": 8,
     "metadata": {},
     "output_type": "execute_result"
    }
   ],
   "source": [
    "df.isnull().sum()"
   ]
  },
  {
   "cell_type": "code",
   "execution_count": 9,
   "metadata": {},
   "outputs": [],
   "source": [
    "del df['a_coach_tech_fouls'], df['a_team_tech_fouls'], df['a_foulouts'], df['a_ejections'], df['neutral_site']"
   ]
  },
  {
   "cell_type": "code",
   "execution_count": 10,
   "metadata": {},
   "outputs": [],
   "source": [
    "df = df.dropna()"
   ]
  },
  {
   "cell_type": "code",
   "execution_count": 11,
   "metadata": {},
   "outputs": [],
   "source": [
    "#used to varify null vlaues were gone, don't need to print out\n",
    "#df.isnull().sum()"
   ]
  },
  {
   "cell_type": "markdown",
   "metadata": {},
   "source": [
    "For this project, only Division 1 data should be considered. Check to see how many unique values are in the division column and delete the all but division 1 values."
   ]
  },
  {
   "cell_type": "code",
   "execution_count": 12,
   "metadata": {},
   "outputs": [
    {
     "name": "stdout",
     "output_type": "stream",
     "text": [
      "['D1' 'D2']\n"
     ]
    }
   ],
   "source": [
    "division_h = df.h_division_alias.unique()\n",
    "print(division_h)"
   ]
  },
  {
   "cell_type": "code",
   "execution_count": 13,
   "metadata": {},
   "outputs": [],
   "source": [
    "df = df[df.h_division_alias != 'D2']"
   ]
  },
  {
   "cell_type": "code",
   "execution_count": 14,
   "metadata": {},
   "outputs": [
    {
     "name": "stdout",
     "output_type": "stream",
     "text": [
      "['D1']\n"
     ]
    }
   ],
   "source": [
    "print(df.h_division_alias.unique())"
   ]
  },
  {
   "cell_type": "code",
   "execution_count": 15,
   "metadata": {},
   "outputs": [
    {
     "name": "stdout",
     "output_type": "stream",
     "text": [
      "['D1' 'D3' 'D2' 'NAIA' 'NCAIA' 'NCCAA']\n"
     ]
    }
   ],
   "source": [
    "division_a = df.a_division_alias.unique()\n",
    "print(division_a)"
   ]
  },
  {
   "cell_type": "code",
   "execution_count": 16,
   "metadata": {},
   "outputs": [],
   "source": [
    "df = df[df.a_division_alias != 'D2']\n",
    "df = df[df.a_division_alias != 'D3']\n",
    "df = df[df.a_division_alias != 'NAIA']\n",
    "df = df[df.a_division_alias != 'NCAIA']\n",
    "df = df[df.a_division_alias != 'NCCAA']"
   ]
  },
  {
   "cell_type": "code",
   "execution_count": 17,
   "metadata": {},
   "outputs": [
    {
     "name": "stdout",
     "output_type": "stream",
     "text": [
      "['D1']\n"
     ]
    }
   ],
   "source": [
    "print(df.a_division_alias.unique())"
   ]
  },
  {
   "cell_type": "markdown",
   "metadata": {},
   "source": [
    "In order to focus one what impacts wins and losses we must create a win/loss feature. This will be done by subtracting the number of away points from the number of home points. If the value is possitive (greater than zero) this means the home team won the game. If the value is negative, the home team lost the game i.e. the away team won.  "
   ]
  },
  {
   "cell_type": "code",
   "execution_count": 18,
   "metadata": {},
   "outputs": [],
   "source": [
    "df['win_h'] = (df.h_points - df.a_points)"
   ]
  },
  {
   "cell_type": "code",
   "execution_count": 19,
   "metadata": {},
   "outputs": [],
   "source": [
    "#away team wins would be reverse of home team wins, do not need to print\n",
    "#df['win_a'] = (df.a_points - df.h_points)"
   ]
  },
  {
   "cell_type": "code",
   "execution_count": 20,
   "metadata": {},
   "outputs": [
    {
     "data": {
      "text/plain": [
       "21      28.0\n",
       "1146     5.0\n",
       "1176    -2.0\n",
       "2291   -12.0\n",
       "2637    17.0\n",
       "Name: win_h, dtype: float64"
      ]
     },
     "execution_count": 20,
     "metadata": {},
     "output_type": "execute_result"
    }
   ],
   "source": [
    "#add new feature to the dataframe\n",
    "df['win_h'].head()"
   ]
  },
  {
   "cell_type": "code",
   "execution_count": 21,
   "metadata": {},
   "outputs": [
    {
     "data": {
      "text/html": [
       "<div>\n",
       "<style scoped>\n",
       "    .dataframe tbody tr th:only-of-type {\n",
       "        vertical-align: middle;\n",
       "    }\n",
       "\n",
       "    .dataframe tbody tr th {\n",
       "        vertical-align: top;\n",
       "    }\n",
       "\n",
       "    .dataframe thead th {\n",
       "        text-align: right;\n",
       "    }\n",
       "</style>\n",
       "<table border=\"1\" class=\"dataframe\">\n",
       "  <thead>\n",
       "    <tr style=\"text-align: right;\">\n",
       "      <th></th>\n",
       "      <th>game_id</th>\n",
       "      <th>season</th>\n",
       "      <th>scheduled_date</th>\n",
       "      <th>attendance</th>\n",
       "      <th>lead_changes</th>\n",
       "      <th>times_tied</th>\n",
       "      <th>periods</th>\n",
       "      <th>venue_city</th>\n",
       "      <th>venue_name</th>\n",
       "      <th>venue_capacity</th>\n",
       "      <th>...</th>\n",
       "      <th>a_personal_fouls</th>\n",
       "      <th>a_points</th>\n",
       "      <th>a_fast_break_pts</th>\n",
       "      <th>a_second_chance_pts</th>\n",
       "      <th>a_team_turnovers</th>\n",
       "      <th>a_points_off_turnovers</th>\n",
       "      <th>a_team_rebounds</th>\n",
       "      <th>a_flagrant_fouls</th>\n",
       "      <th>a_player_tech_fouls</th>\n",
       "      <th>win_h</th>\n",
       "    </tr>\n",
       "  </thead>\n",
       "  <tbody>\n",
       "    <tr>\n",
       "      <th>21</th>\n",
       "      <td>0557a5b2-0320-4f7d-aa72-f871c01cfd63</td>\n",
       "      <td>2015</td>\n",
       "      <td>2015-11-16</td>\n",
       "      <td>3427.0</td>\n",
       "      <td>0.0</td>\n",
       "      <td>1.0</td>\n",
       "      <td>2.0</td>\n",
       "      <td>Stanford</td>\n",
       "      <td>Maples Pavilion</td>\n",
       "      <td>7392.0</td>\n",
       "      <td>...</td>\n",
       "      <td>30.0</td>\n",
       "      <td>65.0</td>\n",
       "      <td>0.0</td>\n",
       "      <td>13.0</td>\n",
       "      <td>2.0</td>\n",
       "      <td>6.0</td>\n",
       "      <td>4.0</td>\n",
       "      <td>0.0</td>\n",
       "      <td>0.0</td>\n",
       "      <td>28.0</td>\n",
       "    </tr>\n",
       "    <tr>\n",
       "      <th>1146</th>\n",
       "      <td>f12a8bfb-a4ef-4953-96a3-266cb81c5a0b</td>\n",
       "      <td>2015</td>\n",
       "      <td>2015-11-14</td>\n",
       "      <td>6904.0</td>\n",
       "      <td>20.0</td>\n",
       "      <td>8.0</td>\n",
       "      <td>2.0</td>\n",
       "      <td>Winston-Salem</td>\n",
       "      <td>Lawrence Joel Veterans Memorial Coliseum</td>\n",
       "      <td>14665.0</td>\n",
       "      <td>...</td>\n",
       "      <td>27.0</td>\n",
       "      <td>73.0</td>\n",
       "      <td>0.0</td>\n",
       "      <td>14.0</td>\n",
       "      <td>0.0</td>\n",
       "      <td>34.0</td>\n",
       "      <td>4.0</td>\n",
       "      <td>0.0</td>\n",
       "      <td>0.0</td>\n",
       "      <td>5.0</td>\n",
       "    </tr>\n",
       "    <tr>\n",
       "      <th>1176</th>\n",
       "      <td>8303ed5b-2f12-427d-bd89-4f8fa109ac6c</td>\n",
       "      <td>2015</td>\n",
       "      <td>2015-12-19</td>\n",
       "      <td>13174.0</td>\n",
       "      <td>3.0</td>\n",
       "      <td>6.0</td>\n",
       "      <td>3.0</td>\n",
       "      <td>New York</td>\n",
       "      <td>Madison Square Garden</td>\n",
       "      <td>19812.0</td>\n",
       "      <td>...</td>\n",
       "      <td>26.0</td>\n",
       "      <td>77.0</td>\n",
       "      <td>0.0</td>\n",
       "      <td>14.0</td>\n",
       "      <td>1.0</td>\n",
       "      <td>10.0</td>\n",
       "      <td>8.0</td>\n",
       "      <td>0.0</td>\n",
       "      <td>0.0</td>\n",
       "      <td>-2.0</td>\n",
       "    </tr>\n",
       "    <tr>\n",
       "      <th>2291</th>\n",
       "      <td>cc300fad-b02a-4a2c-bee4-5e3a85aff54b</td>\n",
       "      <td>2015</td>\n",
       "      <td>2015-12-31</td>\n",
       "      <td>5873.0</td>\n",
       "      <td>5.0</td>\n",
       "      <td>5.0</td>\n",
       "      <td>2.0</td>\n",
       "      <td>Rosemont</td>\n",
       "      <td>Allstate Arena</td>\n",
       "      <td>17500.0</td>\n",
       "      <td>...</td>\n",
       "      <td>22.0</td>\n",
       "      <td>70.0</td>\n",
       "      <td>0.0</td>\n",
       "      <td>25.0</td>\n",
       "      <td>1.0</td>\n",
       "      <td>30.0</td>\n",
       "      <td>4.0</td>\n",
       "      <td>0.0</td>\n",
       "      <td>0.0</td>\n",
       "      <td>-12.0</td>\n",
       "    </tr>\n",
       "    <tr>\n",
       "      <th>2637</th>\n",
       "      <td>99ac0cdb-ad8c-4c97-b0c4-9027ebe095fe</td>\n",
       "      <td>2013</td>\n",
       "      <td>2013-12-30</td>\n",
       "      <td>4799.0</td>\n",
       "      <td>0.0</td>\n",
       "      <td>1.0</td>\n",
       "      <td>2.0</td>\n",
       "      <td>Stanford</td>\n",
       "      <td>Maples Pavilion</td>\n",
       "      <td>7392.0</td>\n",
       "      <td>...</td>\n",
       "      <td>25.0</td>\n",
       "      <td>62.0</td>\n",
       "      <td>0.0</td>\n",
       "      <td>11.0</td>\n",
       "      <td>0.0</td>\n",
       "      <td>8.0</td>\n",
       "      <td>4.0</td>\n",
       "      <td>0.0</td>\n",
       "      <td>0.0</td>\n",
       "      <td>17.0</td>\n",
       "    </tr>\n",
       "  </tbody>\n",
       "</table>\n",
       "<p>5 rows × 91 columns</p>\n",
       "</div>"
      ],
      "text/plain": [
       "                                   game_id  season scheduled_date  attendance  \\\n",
       "21    0557a5b2-0320-4f7d-aa72-f871c01cfd63    2015     2015-11-16      3427.0   \n",
       "1146  f12a8bfb-a4ef-4953-96a3-266cb81c5a0b    2015     2015-11-14      6904.0   \n",
       "1176  8303ed5b-2f12-427d-bd89-4f8fa109ac6c    2015     2015-12-19     13174.0   \n",
       "2291  cc300fad-b02a-4a2c-bee4-5e3a85aff54b    2015     2015-12-31      5873.0   \n",
       "2637  99ac0cdb-ad8c-4c97-b0c4-9027ebe095fe    2013     2013-12-30      4799.0   \n",
       "\n",
       "      lead_changes  times_tied  periods     venue_city  \\\n",
       "21             0.0         1.0      2.0       Stanford   \n",
       "1146          20.0         8.0      2.0  Winston-Salem   \n",
       "1176           3.0         6.0      3.0       New York   \n",
       "2291           5.0         5.0      2.0       Rosemont   \n",
       "2637           0.0         1.0      2.0       Stanford   \n",
       "\n",
       "                                    venue_name  venue_capacity  ...  \\\n",
       "21                             Maples Pavilion          7392.0  ...   \n",
       "1146  Lawrence Joel Veterans Memorial Coliseum         14665.0  ...   \n",
       "1176                     Madison Square Garden         19812.0  ...   \n",
       "2291                            Allstate Arena         17500.0  ...   \n",
       "2637                           Maples Pavilion          7392.0  ...   \n",
       "\n",
       "     a_personal_fouls a_points a_fast_break_pts a_second_chance_pts  \\\n",
       "21               30.0     65.0              0.0                13.0   \n",
       "1146             27.0     73.0              0.0                14.0   \n",
       "1176             26.0     77.0              0.0                14.0   \n",
       "2291             22.0     70.0              0.0                25.0   \n",
       "2637             25.0     62.0              0.0                11.0   \n",
       "\n",
       "     a_team_turnovers a_points_off_turnovers  a_team_rebounds  \\\n",
       "21                2.0                    6.0              4.0   \n",
       "1146              0.0                   34.0              4.0   \n",
       "1176              1.0                   10.0              8.0   \n",
       "2291              1.0                   30.0              4.0   \n",
       "2637              0.0                    8.0              4.0   \n",
       "\n",
       "     a_flagrant_fouls  a_player_tech_fouls  win_h  \n",
       "21                0.0                  0.0   28.0  \n",
       "1146              0.0                  0.0    5.0  \n",
       "1176              0.0                  0.0   -2.0  \n",
       "2291              0.0                  0.0  -12.0  \n",
       "2637              0.0                  0.0   17.0  \n",
       "\n",
       "[5 rows x 91 columns]"
      ]
     },
     "execution_count": 21,
     "metadata": {},
     "output_type": "execute_result"
    }
   ],
   "source": [
    "df.head()"
   ]
  },
  {
   "cell_type": "markdown",
   "metadata": {},
   "source": [
    "In order to perform further testing, the win/loss column will be represented by a 0 or 1 rather than a W or L. For the sake of testing, the tests will be from the home team's point of view, meaning a 1 will represent a win for the home team and a 0 will respresent a loss for the home team."
   ]
  },
  {
   "cell_type": "code",
   "execution_count": 22,
   "metadata": {},
   "outputs": [],
   "source": [
    "#changing possitive/negative results into a number for testing\n",
    "df.win_h[df.win_h > 0] = 1\n",
    "df.win_h[df.win_h < 0] = 0\n"
   ]
  },
  {
   "cell_type": "markdown",
   "metadata": {},
   "source": [
    "Now that we have cleaned our dataframe we will want to save it before making any more changes."
   ]
  },
  {
   "cell_type": "code",
   "execution_count": 23,
   "metadata": {},
   "outputs": [],
   "source": [
    "ncaa = df\n",
    "ncaa.to_csv('ncaa.csv')"
   ]
  },
  {
   "cell_type": "code",
   "execution_count": 24,
   "metadata": {},
   "outputs": [],
   "source": [
    "ncaa = pd.read_csv('ncaa.csv')"
   ]
  },
  {
   "cell_type": "code",
   "execution_count": 25,
   "metadata": {},
   "outputs": [
    {
     "data": {
      "text/html": [
       "<div>\n",
       "<style scoped>\n",
       "    .dataframe tbody tr th:only-of-type {\n",
       "        vertical-align: middle;\n",
       "    }\n",
       "\n",
       "    .dataframe tbody tr th {\n",
       "        vertical-align: top;\n",
       "    }\n",
       "\n",
       "    .dataframe thead th {\n",
       "        text-align: right;\n",
       "    }\n",
       "</style>\n",
       "<table border=\"1\" class=\"dataframe\">\n",
       "  <thead>\n",
       "    <tr style=\"text-align: right;\">\n",
       "      <th></th>\n",
       "      <th>Unnamed: 0</th>\n",
       "      <th>game_id</th>\n",
       "      <th>season</th>\n",
       "      <th>scheduled_date</th>\n",
       "      <th>attendance</th>\n",
       "      <th>lead_changes</th>\n",
       "      <th>times_tied</th>\n",
       "      <th>periods</th>\n",
       "      <th>venue_city</th>\n",
       "      <th>venue_name</th>\n",
       "      <th>...</th>\n",
       "      <th>a_personal_fouls</th>\n",
       "      <th>a_points</th>\n",
       "      <th>a_fast_break_pts</th>\n",
       "      <th>a_second_chance_pts</th>\n",
       "      <th>a_team_turnovers</th>\n",
       "      <th>a_points_off_turnovers</th>\n",
       "      <th>a_team_rebounds</th>\n",
       "      <th>a_flagrant_fouls</th>\n",
       "      <th>a_player_tech_fouls</th>\n",
       "      <th>win_h</th>\n",
       "    </tr>\n",
       "  </thead>\n",
       "  <tbody>\n",
       "    <tr>\n",
       "      <th>0</th>\n",
       "      <td>21</td>\n",
       "      <td>0557a5b2-0320-4f7d-aa72-f871c01cfd63</td>\n",
       "      <td>2015</td>\n",
       "      <td>2015-11-16</td>\n",
       "      <td>3427.0</td>\n",
       "      <td>0.0</td>\n",
       "      <td>1.0</td>\n",
       "      <td>2.0</td>\n",
       "      <td>Stanford</td>\n",
       "      <td>Maples Pavilion</td>\n",
       "      <td>...</td>\n",
       "      <td>30.0</td>\n",
       "      <td>65.0</td>\n",
       "      <td>0.0</td>\n",
       "      <td>13.0</td>\n",
       "      <td>2.0</td>\n",
       "      <td>6.0</td>\n",
       "      <td>4.0</td>\n",
       "      <td>0.0</td>\n",
       "      <td>0.0</td>\n",
       "      <td>1.0</td>\n",
       "    </tr>\n",
       "    <tr>\n",
       "      <th>1</th>\n",
       "      <td>1146</td>\n",
       "      <td>f12a8bfb-a4ef-4953-96a3-266cb81c5a0b</td>\n",
       "      <td>2015</td>\n",
       "      <td>2015-11-14</td>\n",
       "      <td>6904.0</td>\n",
       "      <td>20.0</td>\n",
       "      <td>8.0</td>\n",
       "      <td>2.0</td>\n",
       "      <td>Winston-Salem</td>\n",
       "      <td>Lawrence Joel Veterans Memorial Coliseum</td>\n",
       "      <td>...</td>\n",
       "      <td>27.0</td>\n",
       "      <td>73.0</td>\n",
       "      <td>0.0</td>\n",
       "      <td>14.0</td>\n",
       "      <td>0.0</td>\n",
       "      <td>34.0</td>\n",
       "      <td>4.0</td>\n",
       "      <td>0.0</td>\n",
       "      <td>0.0</td>\n",
       "      <td>1.0</td>\n",
       "    </tr>\n",
       "    <tr>\n",
       "      <th>2</th>\n",
       "      <td>1176</td>\n",
       "      <td>8303ed5b-2f12-427d-bd89-4f8fa109ac6c</td>\n",
       "      <td>2015</td>\n",
       "      <td>2015-12-19</td>\n",
       "      <td>13174.0</td>\n",
       "      <td>3.0</td>\n",
       "      <td>6.0</td>\n",
       "      <td>3.0</td>\n",
       "      <td>New York</td>\n",
       "      <td>Madison Square Garden</td>\n",
       "      <td>...</td>\n",
       "      <td>26.0</td>\n",
       "      <td>77.0</td>\n",
       "      <td>0.0</td>\n",
       "      <td>14.0</td>\n",
       "      <td>1.0</td>\n",
       "      <td>10.0</td>\n",
       "      <td>8.0</td>\n",
       "      <td>0.0</td>\n",
       "      <td>0.0</td>\n",
       "      <td>0.0</td>\n",
       "    </tr>\n",
       "    <tr>\n",
       "      <th>3</th>\n",
       "      <td>2291</td>\n",
       "      <td>cc300fad-b02a-4a2c-bee4-5e3a85aff54b</td>\n",
       "      <td>2015</td>\n",
       "      <td>2015-12-31</td>\n",
       "      <td>5873.0</td>\n",
       "      <td>5.0</td>\n",
       "      <td>5.0</td>\n",
       "      <td>2.0</td>\n",
       "      <td>Rosemont</td>\n",
       "      <td>Allstate Arena</td>\n",
       "      <td>...</td>\n",
       "      <td>22.0</td>\n",
       "      <td>70.0</td>\n",
       "      <td>0.0</td>\n",
       "      <td>25.0</td>\n",
       "      <td>1.0</td>\n",
       "      <td>30.0</td>\n",
       "      <td>4.0</td>\n",
       "      <td>0.0</td>\n",
       "      <td>0.0</td>\n",
       "      <td>0.0</td>\n",
       "    </tr>\n",
       "    <tr>\n",
       "      <th>4</th>\n",
       "      <td>2637</td>\n",
       "      <td>99ac0cdb-ad8c-4c97-b0c4-9027ebe095fe</td>\n",
       "      <td>2013</td>\n",
       "      <td>2013-12-30</td>\n",
       "      <td>4799.0</td>\n",
       "      <td>0.0</td>\n",
       "      <td>1.0</td>\n",
       "      <td>2.0</td>\n",
       "      <td>Stanford</td>\n",
       "      <td>Maples Pavilion</td>\n",
       "      <td>...</td>\n",
       "      <td>25.0</td>\n",
       "      <td>62.0</td>\n",
       "      <td>0.0</td>\n",
       "      <td>11.0</td>\n",
       "      <td>0.0</td>\n",
       "      <td>8.0</td>\n",
       "      <td>4.0</td>\n",
       "      <td>0.0</td>\n",
       "      <td>0.0</td>\n",
       "      <td>1.0</td>\n",
       "    </tr>\n",
       "  </tbody>\n",
       "</table>\n",
       "<p>5 rows × 92 columns</p>\n",
       "</div>"
      ],
      "text/plain": [
       "   Unnamed: 0                               game_id  season scheduled_date  \\\n",
       "0          21  0557a5b2-0320-4f7d-aa72-f871c01cfd63    2015     2015-11-16   \n",
       "1        1146  f12a8bfb-a4ef-4953-96a3-266cb81c5a0b    2015     2015-11-14   \n",
       "2        1176  8303ed5b-2f12-427d-bd89-4f8fa109ac6c    2015     2015-12-19   \n",
       "3        2291  cc300fad-b02a-4a2c-bee4-5e3a85aff54b    2015     2015-12-31   \n",
       "4        2637  99ac0cdb-ad8c-4c97-b0c4-9027ebe095fe    2013     2013-12-30   \n",
       "\n",
       "   attendance  lead_changes  times_tied  periods     venue_city  \\\n",
       "0      3427.0           0.0         1.0      2.0       Stanford   \n",
       "1      6904.0          20.0         8.0      2.0  Winston-Salem   \n",
       "2     13174.0           3.0         6.0      3.0       New York   \n",
       "3      5873.0           5.0         5.0      2.0       Rosemont   \n",
       "4      4799.0           0.0         1.0      2.0       Stanford   \n",
       "\n",
       "                                 venue_name  ...  a_personal_fouls a_points  \\\n",
       "0                           Maples Pavilion  ...              30.0     65.0   \n",
       "1  Lawrence Joel Veterans Memorial Coliseum  ...              27.0     73.0   \n",
       "2                     Madison Square Garden  ...              26.0     77.0   \n",
       "3                            Allstate Arena  ...              22.0     70.0   \n",
       "4                           Maples Pavilion  ...              25.0     62.0   \n",
       "\n",
       "  a_fast_break_pts a_second_chance_pts a_team_turnovers  \\\n",
       "0              0.0                13.0              2.0   \n",
       "1              0.0                14.0              0.0   \n",
       "2              0.0                14.0              1.0   \n",
       "3              0.0                25.0              1.0   \n",
       "4              0.0                11.0              0.0   \n",
       "\n",
       "  a_points_off_turnovers a_team_rebounds  a_flagrant_fouls  \\\n",
       "0                    6.0             4.0               0.0   \n",
       "1                   34.0             4.0               0.0   \n",
       "2                   10.0             8.0               0.0   \n",
       "3                   30.0             4.0               0.0   \n",
       "4                    8.0             4.0               0.0   \n",
       "\n",
       "  a_player_tech_fouls  win_h  \n",
       "0                 0.0    1.0  \n",
       "1                 0.0    1.0  \n",
       "2                 0.0    0.0  \n",
       "3                 0.0    0.0  \n",
       "4                 0.0    1.0  \n",
       "\n",
       "[5 rows x 92 columns]"
      ]
     },
     "execution_count": 25,
     "metadata": {},
     "output_type": "execute_result"
    }
   ],
   "source": [
    "ncaa.head()"
   ]
  },
  {
   "cell_type": "code",
   "execution_count": 26,
   "metadata": {},
   "outputs": [],
   "source": [
    "#hide unnamed column\n",
    "ncaa = ncaa.drop(ncaa.columns[ncaa.columns.str.contains('unnamed',case = False)],axis = 1)"
   ]
  },
  {
   "cell_type": "code",
   "execution_count": 27,
   "metadata": {},
   "outputs": [],
   "source": [
    "#drop home win column because that is our target\n",
    "target = df['win_h']\n",
    "df.drop('win_h', axis=1, inplace=True)"
   ]
  },
  {
   "cell_type": "code",
   "execution_count": 28,
   "metadata": {},
   "outputs": [
    {
     "data": {
      "text/plain": [
       "21      1.0\n",
       "1146    1.0\n",
       "1176    0.0\n",
       "2291    0.0\n",
       "2637    1.0\n",
       "Name: win_h, dtype: float64"
      ]
     },
     "execution_count": 28,
     "metadata": {},
     "output_type": "execute_result"
    }
   ],
   "source": [
    "target.head()"
   ]
  },
  {
   "cell_type": "code",
   "execution_count": 29,
   "metadata": {},
   "outputs": [
    {
     "data": {
      "text/html": [
       "<div>\n",
       "<style scoped>\n",
       "    .dataframe tbody tr th:only-of-type {\n",
       "        vertical-align: middle;\n",
       "    }\n",
       "\n",
       "    .dataframe tbody tr th {\n",
       "        vertical-align: top;\n",
       "    }\n",
       "\n",
       "    .dataframe thead th {\n",
       "        text-align: right;\n",
       "    }\n",
       "</style>\n",
       "<table border=\"1\" class=\"dataframe\">\n",
       "  <thead>\n",
       "    <tr style=\"text-align: right;\">\n",
       "      <th></th>\n",
       "      <th>game_id</th>\n",
       "      <th>season</th>\n",
       "      <th>scheduled_date</th>\n",
       "      <th>attendance</th>\n",
       "      <th>lead_changes</th>\n",
       "      <th>times_tied</th>\n",
       "      <th>periods</th>\n",
       "      <th>venue_city</th>\n",
       "      <th>venue_name</th>\n",
       "      <th>venue_capacity</th>\n",
       "      <th>...</th>\n",
       "      <th>a_assists_turnover_ratio</th>\n",
       "      <th>a_personal_fouls</th>\n",
       "      <th>a_points</th>\n",
       "      <th>a_fast_break_pts</th>\n",
       "      <th>a_second_chance_pts</th>\n",
       "      <th>a_team_turnovers</th>\n",
       "      <th>a_points_off_turnovers</th>\n",
       "      <th>a_team_rebounds</th>\n",
       "      <th>a_flagrant_fouls</th>\n",
       "      <th>a_player_tech_fouls</th>\n",
       "    </tr>\n",
       "  </thead>\n",
       "  <tbody>\n",
       "    <tr>\n",
       "      <th>21</th>\n",
       "      <td>0557a5b2-0320-4f7d-aa72-f871c01cfd63</td>\n",
       "      <td>2015</td>\n",
       "      <td>2015-11-16</td>\n",
       "      <td>3427.0</td>\n",
       "      <td>0.0</td>\n",
       "      <td>1.0</td>\n",
       "      <td>2.0</td>\n",
       "      <td>Stanford</td>\n",
       "      <td>Maples Pavilion</td>\n",
       "      <td>7392.0</td>\n",
       "      <td>...</td>\n",
       "      <td>0.79</td>\n",
       "      <td>30.0</td>\n",
       "      <td>65.0</td>\n",
       "      <td>0.0</td>\n",
       "      <td>13.0</td>\n",
       "      <td>2.0</td>\n",
       "      <td>6.0</td>\n",
       "      <td>4.0</td>\n",
       "      <td>0.0</td>\n",
       "      <td>0.0</td>\n",
       "    </tr>\n",
       "    <tr>\n",
       "      <th>1146</th>\n",
       "      <td>f12a8bfb-a4ef-4953-96a3-266cb81c5a0b</td>\n",
       "      <td>2015</td>\n",
       "      <td>2015-11-14</td>\n",
       "      <td>6904.0</td>\n",
       "      <td>20.0</td>\n",
       "      <td>8.0</td>\n",
       "      <td>2.0</td>\n",
       "      <td>Winston-Salem</td>\n",
       "      <td>Lawrence Joel Veterans Memorial Coliseum</td>\n",
       "      <td>14665.0</td>\n",
       "      <td>...</td>\n",
       "      <td>1.33</td>\n",
       "      <td>27.0</td>\n",
       "      <td>73.0</td>\n",
       "      <td>0.0</td>\n",
       "      <td>14.0</td>\n",
       "      <td>0.0</td>\n",
       "      <td>34.0</td>\n",
       "      <td>4.0</td>\n",
       "      <td>0.0</td>\n",
       "      <td>0.0</td>\n",
       "    </tr>\n",
       "    <tr>\n",
       "      <th>1176</th>\n",
       "      <td>8303ed5b-2f12-427d-bd89-4f8fa109ac6c</td>\n",
       "      <td>2015</td>\n",
       "      <td>2015-12-19</td>\n",
       "      <td>13174.0</td>\n",
       "      <td>3.0</td>\n",
       "      <td>6.0</td>\n",
       "      <td>3.0</td>\n",
       "      <td>New York</td>\n",
       "      <td>Madison Square Garden</td>\n",
       "      <td>19812.0</td>\n",
       "      <td>...</td>\n",
       "      <td>0.89</td>\n",
       "      <td>26.0</td>\n",
       "      <td>77.0</td>\n",
       "      <td>0.0</td>\n",
       "      <td>14.0</td>\n",
       "      <td>1.0</td>\n",
       "      <td>10.0</td>\n",
       "      <td>8.0</td>\n",
       "      <td>0.0</td>\n",
       "      <td>0.0</td>\n",
       "    </tr>\n",
       "    <tr>\n",
       "      <th>2291</th>\n",
       "      <td>cc300fad-b02a-4a2c-bee4-5e3a85aff54b</td>\n",
       "      <td>2015</td>\n",
       "      <td>2015-12-31</td>\n",
       "      <td>5873.0</td>\n",
       "      <td>5.0</td>\n",
       "      <td>5.0</td>\n",
       "      <td>2.0</td>\n",
       "      <td>Rosemont</td>\n",
       "      <td>Allstate Arena</td>\n",
       "      <td>17500.0</td>\n",
       "      <td>...</td>\n",
       "      <td>1.25</td>\n",
       "      <td>22.0</td>\n",
       "      <td>70.0</td>\n",
       "      <td>0.0</td>\n",
       "      <td>25.0</td>\n",
       "      <td>1.0</td>\n",
       "      <td>30.0</td>\n",
       "      <td>4.0</td>\n",
       "      <td>0.0</td>\n",
       "      <td>0.0</td>\n",
       "    </tr>\n",
       "    <tr>\n",
       "      <th>2637</th>\n",
       "      <td>99ac0cdb-ad8c-4c97-b0c4-9027ebe095fe</td>\n",
       "      <td>2013</td>\n",
       "      <td>2013-12-30</td>\n",
       "      <td>4799.0</td>\n",
       "      <td>0.0</td>\n",
       "      <td>1.0</td>\n",
       "      <td>2.0</td>\n",
       "      <td>Stanford</td>\n",
       "      <td>Maples Pavilion</td>\n",
       "      <td>7392.0</td>\n",
       "      <td>...</td>\n",
       "      <td>1.38</td>\n",
       "      <td>25.0</td>\n",
       "      <td>62.0</td>\n",
       "      <td>0.0</td>\n",
       "      <td>11.0</td>\n",
       "      <td>0.0</td>\n",
       "      <td>8.0</td>\n",
       "      <td>4.0</td>\n",
       "      <td>0.0</td>\n",
       "      <td>0.0</td>\n",
       "    </tr>\n",
       "  </tbody>\n",
       "</table>\n",
       "<p>5 rows × 90 columns</p>\n",
       "</div>"
      ],
      "text/plain": [
       "                                   game_id  season scheduled_date  attendance  \\\n",
       "21    0557a5b2-0320-4f7d-aa72-f871c01cfd63    2015     2015-11-16      3427.0   \n",
       "1146  f12a8bfb-a4ef-4953-96a3-266cb81c5a0b    2015     2015-11-14      6904.0   \n",
       "1176  8303ed5b-2f12-427d-bd89-4f8fa109ac6c    2015     2015-12-19     13174.0   \n",
       "2291  cc300fad-b02a-4a2c-bee4-5e3a85aff54b    2015     2015-12-31      5873.0   \n",
       "2637  99ac0cdb-ad8c-4c97-b0c4-9027ebe095fe    2013     2013-12-30      4799.0   \n",
       "\n",
       "      lead_changes  times_tied  periods     venue_city  \\\n",
       "21             0.0         1.0      2.0       Stanford   \n",
       "1146          20.0         8.0      2.0  Winston-Salem   \n",
       "1176           3.0         6.0      3.0       New York   \n",
       "2291           5.0         5.0      2.0       Rosemont   \n",
       "2637           0.0         1.0      2.0       Stanford   \n",
       "\n",
       "                                    venue_name  venue_capacity  ...  \\\n",
       "21                             Maples Pavilion          7392.0  ...   \n",
       "1146  Lawrence Joel Veterans Memorial Coliseum         14665.0  ...   \n",
       "1176                     Madison Square Garden         19812.0  ...   \n",
       "2291                            Allstate Arena         17500.0  ...   \n",
       "2637                           Maples Pavilion          7392.0  ...   \n",
       "\n",
       "     a_assists_turnover_ratio a_personal_fouls a_points a_fast_break_pts  \\\n",
       "21                       0.79             30.0     65.0              0.0   \n",
       "1146                     1.33             27.0     73.0              0.0   \n",
       "1176                     0.89             26.0     77.0              0.0   \n",
       "2291                     1.25             22.0     70.0              0.0   \n",
       "2637                     1.38             25.0     62.0              0.0   \n",
       "\n",
       "     a_second_chance_pts a_team_turnovers  a_points_off_turnovers  \\\n",
       "21                  13.0              2.0                     6.0   \n",
       "1146                14.0              0.0                    34.0   \n",
       "1176                14.0              1.0                    10.0   \n",
       "2291                25.0              1.0                    30.0   \n",
       "2637                11.0              0.0                     8.0   \n",
       "\n",
       "     a_team_rebounds  a_flagrant_fouls  a_player_tech_fouls  \n",
       "21               4.0               0.0                  0.0  \n",
       "1146             4.0               0.0                  0.0  \n",
       "1176             8.0               0.0                  0.0  \n",
       "2291             4.0               0.0                  0.0  \n",
       "2637             4.0               0.0                  0.0  \n",
       "\n",
       "[5 rows x 90 columns]"
      ]
     },
     "execution_count": 29,
     "metadata": {},
     "output_type": "execute_result"
    }
   ],
   "source": [
    "df.head()"
   ]
  },
  {
   "cell_type": "code",
   "execution_count": 30,
   "metadata": {},
   "outputs": [
    {
     "data": {
      "text/html": [
       "<div>\n",
       "<style scoped>\n",
       "    .dataframe tbody tr th:only-of-type {\n",
       "        vertical-align: middle;\n",
       "    }\n",
       "\n",
       "    .dataframe tbody tr th {\n",
       "        vertical-align: top;\n",
       "    }\n",
       "\n",
       "    .dataframe thead th {\n",
       "        text-align: right;\n",
       "    }\n",
       "</style>\n",
       "<table border=\"1\" class=\"dataframe\">\n",
       "  <thead>\n",
       "    <tr style=\"text-align: right;\">\n",
       "      <th></th>\n",
       "      <th>game_id</th>\n",
       "      <th>season</th>\n",
       "      <th>scheduled_date</th>\n",
       "      <th>attendance</th>\n",
       "      <th>lead_changes</th>\n",
       "      <th>times_tied</th>\n",
       "      <th>periods</th>\n",
       "      <th>venue_city</th>\n",
       "      <th>venue_name</th>\n",
       "      <th>venue_capacity</th>\n",
       "      <th>...</th>\n",
       "      <th>a_personal_fouls</th>\n",
       "      <th>a_points</th>\n",
       "      <th>a_fast_break_pts</th>\n",
       "      <th>a_second_chance_pts</th>\n",
       "      <th>a_team_turnovers</th>\n",
       "      <th>a_points_off_turnovers</th>\n",
       "      <th>a_team_rebounds</th>\n",
       "      <th>a_flagrant_fouls</th>\n",
       "      <th>a_player_tech_fouls</th>\n",
       "      <th>win_h</th>\n",
       "    </tr>\n",
       "  </thead>\n",
       "  <tbody>\n",
       "    <tr>\n",
       "      <th>0</th>\n",
       "      <td>0557a5b2-0320-4f7d-aa72-f871c01cfd63</td>\n",
       "      <td>2015</td>\n",
       "      <td>2015-11-16</td>\n",
       "      <td>3427.0</td>\n",
       "      <td>0.0</td>\n",
       "      <td>1.0</td>\n",
       "      <td>2.0</td>\n",
       "      <td>Stanford</td>\n",
       "      <td>Maples Pavilion</td>\n",
       "      <td>7392.0</td>\n",
       "      <td>...</td>\n",
       "      <td>30.0</td>\n",
       "      <td>65.0</td>\n",
       "      <td>0.0</td>\n",
       "      <td>13.0</td>\n",
       "      <td>2.0</td>\n",
       "      <td>6.0</td>\n",
       "      <td>4.0</td>\n",
       "      <td>0.0</td>\n",
       "      <td>0.0</td>\n",
       "      <td>1.0</td>\n",
       "    </tr>\n",
       "    <tr>\n",
       "      <th>1</th>\n",
       "      <td>f12a8bfb-a4ef-4953-96a3-266cb81c5a0b</td>\n",
       "      <td>2015</td>\n",
       "      <td>2015-11-14</td>\n",
       "      <td>6904.0</td>\n",
       "      <td>20.0</td>\n",
       "      <td>8.0</td>\n",
       "      <td>2.0</td>\n",
       "      <td>Winston-Salem</td>\n",
       "      <td>Lawrence Joel Veterans Memorial Coliseum</td>\n",
       "      <td>14665.0</td>\n",
       "      <td>...</td>\n",
       "      <td>27.0</td>\n",
       "      <td>73.0</td>\n",
       "      <td>0.0</td>\n",
       "      <td>14.0</td>\n",
       "      <td>0.0</td>\n",
       "      <td>34.0</td>\n",
       "      <td>4.0</td>\n",
       "      <td>0.0</td>\n",
       "      <td>0.0</td>\n",
       "      <td>1.0</td>\n",
       "    </tr>\n",
       "    <tr>\n",
       "      <th>2</th>\n",
       "      <td>8303ed5b-2f12-427d-bd89-4f8fa109ac6c</td>\n",
       "      <td>2015</td>\n",
       "      <td>2015-12-19</td>\n",
       "      <td>13174.0</td>\n",
       "      <td>3.0</td>\n",
       "      <td>6.0</td>\n",
       "      <td>3.0</td>\n",
       "      <td>New York</td>\n",
       "      <td>Madison Square Garden</td>\n",
       "      <td>19812.0</td>\n",
       "      <td>...</td>\n",
       "      <td>26.0</td>\n",
       "      <td>77.0</td>\n",
       "      <td>0.0</td>\n",
       "      <td>14.0</td>\n",
       "      <td>1.0</td>\n",
       "      <td>10.0</td>\n",
       "      <td>8.0</td>\n",
       "      <td>0.0</td>\n",
       "      <td>0.0</td>\n",
       "      <td>0.0</td>\n",
       "    </tr>\n",
       "    <tr>\n",
       "      <th>3</th>\n",
       "      <td>cc300fad-b02a-4a2c-bee4-5e3a85aff54b</td>\n",
       "      <td>2015</td>\n",
       "      <td>2015-12-31</td>\n",
       "      <td>5873.0</td>\n",
       "      <td>5.0</td>\n",
       "      <td>5.0</td>\n",
       "      <td>2.0</td>\n",
       "      <td>Rosemont</td>\n",
       "      <td>Allstate Arena</td>\n",
       "      <td>17500.0</td>\n",
       "      <td>...</td>\n",
       "      <td>22.0</td>\n",
       "      <td>70.0</td>\n",
       "      <td>0.0</td>\n",
       "      <td>25.0</td>\n",
       "      <td>1.0</td>\n",
       "      <td>30.0</td>\n",
       "      <td>4.0</td>\n",
       "      <td>0.0</td>\n",
       "      <td>0.0</td>\n",
       "      <td>0.0</td>\n",
       "    </tr>\n",
       "    <tr>\n",
       "      <th>4</th>\n",
       "      <td>99ac0cdb-ad8c-4c97-b0c4-9027ebe095fe</td>\n",
       "      <td>2013</td>\n",
       "      <td>2013-12-30</td>\n",
       "      <td>4799.0</td>\n",
       "      <td>0.0</td>\n",
       "      <td>1.0</td>\n",
       "      <td>2.0</td>\n",
       "      <td>Stanford</td>\n",
       "      <td>Maples Pavilion</td>\n",
       "      <td>7392.0</td>\n",
       "      <td>...</td>\n",
       "      <td>25.0</td>\n",
       "      <td>62.0</td>\n",
       "      <td>0.0</td>\n",
       "      <td>11.0</td>\n",
       "      <td>0.0</td>\n",
       "      <td>8.0</td>\n",
       "      <td>4.0</td>\n",
       "      <td>0.0</td>\n",
       "      <td>0.0</td>\n",
       "      <td>1.0</td>\n",
       "    </tr>\n",
       "  </tbody>\n",
       "</table>\n",
       "<p>5 rows × 91 columns</p>\n",
       "</div>"
      ],
      "text/plain": [
       "                                game_id  season scheduled_date  attendance  \\\n",
       "0  0557a5b2-0320-4f7d-aa72-f871c01cfd63    2015     2015-11-16      3427.0   \n",
       "1  f12a8bfb-a4ef-4953-96a3-266cb81c5a0b    2015     2015-11-14      6904.0   \n",
       "2  8303ed5b-2f12-427d-bd89-4f8fa109ac6c    2015     2015-12-19     13174.0   \n",
       "3  cc300fad-b02a-4a2c-bee4-5e3a85aff54b    2015     2015-12-31      5873.0   \n",
       "4  99ac0cdb-ad8c-4c97-b0c4-9027ebe095fe    2013     2013-12-30      4799.0   \n",
       "\n",
       "   lead_changes  times_tied  periods     venue_city  \\\n",
       "0           0.0         1.0      2.0       Stanford   \n",
       "1          20.0         8.0      2.0  Winston-Salem   \n",
       "2           3.0         6.0      3.0       New York   \n",
       "3           5.0         5.0      2.0       Rosemont   \n",
       "4           0.0         1.0      2.0       Stanford   \n",
       "\n",
       "                                 venue_name  venue_capacity  ...  \\\n",
       "0                           Maples Pavilion          7392.0  ...   \n",
       "1  Lawrence Joel Veterans Memorial Coliseum         14665.0  ...   \n",
       "2                     Madison Square Garden         19812.0  ...   \n",
       "3                            Allstate Arena         17500.0  ...   \n",
       "4                           Maples Pavilion          7392.0  ...   \n",
       "\n",
       "  a_personal_fouls a_points a_fast_break_pts a_second_chance_pts  \\\n",
       "0             30.0     65.0              0.0                13.0   \n",
       "1             27.0     73.0              0.0                14.0   \n",
       "2             26.0     77.0              0.0                14.0   \n",
       "3             22.0     70.0              0.0                25.0   \n",
       "4             25.0     62.0              0.0                11.0   \n",
       "\n",
       "  a_team_turnovers a_points_off_turnovers  a_team_rebounds a_flagrant_fouls  \\\n",
       "0              2.0                    6.0              4.0              0.0   \n",
       "1              0.0                   34.0              4.0              0.0   \n",
       "2              1.0                   10.0              8.0              0.0   \n",
       "3              1.0                   30.0              4.0              0.0   \n",
       "4              0.0                    8.0              4.0              0.0   \n",
       "\n",
       "   a_player_tech_fouls  win_h  \n",
       "0                  0.0    1.0  \n",
       "1                  0.0    1.0  \n",
       "2                  0.0    0.0  \n",
       "3                  0.0    0.0  \n",
       "4                  0.0    1.0  \n",
       "\n",
       "[5 rows x 91 columns]"
      ]
     },
     "execution_count": 30,
     "metadata": {},
     "output_type": "execute_result"
    }
   ],
   "source": [
    "ncaa.head()"
   ]
  },
  {
   "cell_type": "markdown",
   "metadata": {},
   "source": [
    "# Creating Offensive and Defensive tables"
   ]
  },
  {
   "cell_type": "markdown",
   "metadata": {},
   "source": [
    "The table below is created to contain all categories related to offense for the home team. I decided to use the three point, two points, and free throws percentages because it is a more descriptive value that total shots taken or made. I also chose to not include field goal percentage because it is composed of two and three point shots. I thought it would be better for training and tetsing to use the two categories individually."
   ]
  },
  {
   "cell_type": "code",
   "execution_count": 31,
   "metadata": {},
   "outputs": [],
   "source": [
    "offense_h = df[['h_points', 'h_three_points_pct', 'h_two_points_pct', \n",
    "                'h_free_throws_pct', 'h_offensive_rebounds', 'h_assists', \n",
    "                'h_fast_break_pts', 'h_second_chance_pts', 'h_points_off_turnovers']]\n"
   ]
  },
  {
   "cell_type": "code",
   "execution_count": 32,
   "metadata": {},
   "outputs": [
    {
     "data": {
      "text/html": [
       "<div>\n",
       "<style scoped>\n",
       "    .dataframe tbody tr th:only-of-type {\n",
       "        vertical-align: middle;\n",
       "    }\n",
       "\n",
       "    .dataframe tbody tr th {\n",
       "        vertical-align: top;\n",
       "    }\n",
       "\n",
       "    .dataframe thead th {\n",
       "        text-align: right;\n",
       "    }\n",
       "</style>\n",
       "<table border=\"1\" class=\"dataframe\">\n",
       "  <thead>\n",
       "    <tr style=\"text-align: right;\">\n",
       "      <th></th>\n",
       "      <th>h_points</th>\n",
       "      <th>h_three_points_pct</th>\n",
       "      <th>h_two_points_pct</th>\n",
       "      <th>h_free_throws_pct</th>\n",
       "      <th>h_offensive_rebounds</th>\n",
       "      <th>h_assists</th>\n",
       "      <th>h_fast_break_pts</th>\n",
       "      <th>h_second_chance_pts</th>\n",
       "      <th>h_points_off_turnovers</th>\n",
       "    </tr>\n",
       "  </thead>\n",
       "  <tbody>\n",
       "    <tr>\n",
       "      <th>21</th>\n",
       "      <td>93.0</td>\n",
       "      <td>41.7</td>\n",
       "      <td>62.8</td>\n",
       "      <td>60.0</td>\n",
       "      <td>14.0</td>\n",
       "      <td>20.0</td>\n",
       "      <td>0.0</td>\n",
       "      <td>32.0</td>\n",
       "      <td>40.0</td>\n",
       "    </tr>\n",
       "    <tr>\n",
       "      <th>1146</th>\n",
       "      <td>78.0</td>\n",
       "      <td>15.0</td>\n",
       "      <td>46.9</td>\n",
       "      <td>76.7</td>\n",
       "      <td>23.0</td>\n",
       "      <td>12.0</td>\n",
       "      <td>0.0</td>\n",
       "      <td>50.0</td>\n",
       "      <td>14.0</td>\n",
       "    </tr>\n",
       "    <tr>\n",
       "      <th>1176</th>\n",
       "      <td>75.0</td>\n",
       "      <td>28.6</td>\n",
       "      <td>30.6</td>\n",
       "      <td>72.4</td>\n",
       "      <td>12.0</td>\n",
       "      <td>10.0</td>\n",
       "      <td>0.0</td>\n",
       "      <td>40.0</td>\n",
       "      <td>40.0</td>\n",
       "    </tr>\n",
       "    <tr>\n",
       "      <th>2291</th>\n",
       "      <td>58.0</td>\n",
       "      <td>33.3</td>\n",
       "      <td>40.0</td>\n",
       "      <td>54.2</td>\n",
       "      <td>10.0</td>\n",
       "      <td>11.0</td>\n",
       "      <td>0.0</td>\n",
       "      <td>15.0</td>\n",
       "      <td>18.0</td>\n",
       "    </tr>\n",
       "    <tr>\n",
       "      <th>2637</th>\n",
       "      <td>79.0</td>\n",
       "      <td>50.0</td>\n",
       "      <td>60.6</td>\n",
       "      <td>77.4</td>\n",
       "      <td>2.0</td>\n",
       "      <td>13.0</td>\n",
       "      <td>0.0</td>\n",
       "      <td>2.0</td>\n",
       "      <td>14.0</td>\n",
       "    </tr>\n",
       "  </tbody>\n",
       "</table>\n",
       "</div>"
      ],
      "text/plain": [
       "      h_points  h_three_points_pct  h_two_points_pct  h_free_throws_pct  \\\n",
       "21        93.0                41.7              62.8               60.0   \n",
       "1146      78.0                15.0              46.9               76.7   \n",
       "1176      75.0                28.6              30.6               72.4   \n",
       "2291      58.0                33.3              40.0               54.2   \n",
       "2637      79.0                50.0              60.6               77.4   \n",
       "\n",
       "      h_offensive_rebounds  h_assists  h_fast_break_pts  h_second_chance_pts  \\\n",
       "21                    14.0       20.0               0.0                 32.0   \n",
       "1146                  23.0       12.0               0.0                 50.0   \n",
       "1176                  12.0       10.0               0.0                 40.0   \n",
       "2291                  10.0       11.0               0.0                 15.0   \n",
       "2637                   2.0       13.0               0.0                  2.0   \n",
       "\n",
       "      h_points_off_turnovers  \n",
       "21                      40.0  \n",
       "1146                    14.0  \n",
       "1176                    40.0  \n",
       "2291                    18.0  \n",
       "2637                    14.0  "
      ]
     },
     "execution_count": 32,
     "metadata": {},
     "output_type": "execute_result"
    }
   ],
   "source": [
    "offense_h.head()"
   ]
  },
  {
   "cell_type": "markdown",
   "metadata": {},
   "source": [
    "The table below is created to contain the categories related to defense for the home team."
   ]
  },
  {
   "cell_type": "code",
   "execution_count": 33,
   "metadata": {},
   "outputs": [],
   "source": [
    "defense_h = df[['h_defensive_rebounds', 'h_steals', 'h_blocks']]"
   ]
  },
  {
   "cell_type": "code",
   "execution_count": 34,
   "metadata": {},
   "outputs": [
    {
     "data": {
      "text/html": [
       "<div>\n",
       "<style scoped>\n",
       "    .dataframe tbody tr th:only-of-type {\n",
       "        vertical-align: middle;\n",
       "    }\n",
       "\n",
       "    .dataframe tbody tr th {\n",
       "        vertical-align: top;\n",
       "    }\n",
       "\n",
       "    .dataframe thead th {\n",
       "        text-align: right;\n",
       "    }\n",
       "</style>\n",
       "<table border=\"1\" class=\"dataframe\">\n",
       "  <thead>\n",
       "    <tr style=\"text-align: right;\">\n",
       "      <th></th>\n",
       "      <th>h_defensive_rebounds</th>\n",
       "      <th>h_steals</th>\n",
       "      <th>h_blocks</th>\n",
       "    </tr>\n",
       "  </thead>\n",
       "  <tbody>\n",
       "    <tr>\n",
       "      <th>21</th>\n",
       "      <td>30.0</td>\n",
       "      <td>6.0</td>\n",
       "      <td>4.0</td>\n",
       "    </tr>\n",
       "    <tr>\n",
       "      <th>1146</th>\n",
       "      <td>33.0</td>\n",
       "      <td>2.0</td>\n",
       "      <td>11.0</td>\n",
       "    </tr>\n",
       "    <tr>\n",
       "      <th>1176</th>\n",
       "      <td>18.0</td>\n",
       "      <td>7.0</td>\n",
       "      <td>5.0</td>\n",
       "    </tr>\n",
       "    <tr>\n",
       "      <th>2291</th>\n",
       "      <td>24.0</td>\n",
       "      <td>4.0</td>\n",
       "      <td>2.0</td>\n",
       "    </tr>\n",
       "    <tr>\n",
       "      <th>2637</th>\n",
       "      <td>30.0</td>\n",
       "      <td>3.0</td>\n",
       "      <td>6.0</td>\n",
       "    </tr>\n",
       "  </tbody>\n",
       "</table>\n",
       "</div>"
      ],
      "text/plain": [
       "      h_defensive_rebounds  h_steals  h_blocks\n",
       "21                    30.0       6.0       4.0\n",
       "1146                  33.0       2.0      11.0\n",
       "1176                  18.0       7.0       5.0\n",
       "2291                  24.0       4.0       2.0\n",
       "2637                  30.0       3.0       6.0"
      ]
     },
     "execution_count": 34,
     "metadata": {},
     "output_type": "execute_result"
    }
   ],
   "source": [
    "defense_h.head()"
   ]
  },
  {
   "cell_type": "code",
   "execution_count": 35,
   "metadata": {},
   "outputs": [],
   "source": [
    "#offensive category for away team\n",
    "offense_a = df[['a_points', 'a_three_points_pct','a_two_points_pct', \n",
    "                'a_free_throws_pct', 'a_offensive_rebounds', 'a_assists', \n",
    "                'a_fast_break_pts', 'a_second_chance_pts', 'a_points_off_turnovers']]\n"
   ]
  },
  {
   "cell_type": "code",
   "execution_count": 36,
   "metadata": {},
   "outputs": [
    {
     "data": {
      "text/html": [
       "<div>\n",
       "<style scoped>\n",
       "    .dataframe tbody tr th:only-of-type {\n",
       "        vertical-align: middle;\n",
       "    }\n",
       "\n",
       "    .dataframe tbody tr th {\n",
       "        vertical-align: top;\n",
       "    }\n",
       "\n",
       "    .dataframe thead th {\n",
       "        text-align: right;\n",
       "    }\n",
       "</style>\n",
       "<table border=\"1\" class=\"dataframe\">\n",
       "  <thead>\n",
       "    <tr style=\"text-align: right;\">\n",
       "      <th></th>\n",
       "      <th>a_points</th>\n",
       "      <th>a_three_points_pct</th>\n",
       "      <th>a_two_points_pct</th>\n",
       "      <th>a_free_throws_pct</th>\n",
       "      <th>a_offensive_rebounds</th>\n",
       "      <th>a_assists</th>\n",
       "      <th>a_fast_break_pts</th>\n",
       "      <th>a_second_chance_pts</th>\n",
       "      <th>a_points_off_turnovers</th>\n",
       "    </tr>\n",
       "  </thead>\n",
       "  <tbody>\n",
       "    <tr>\n",
       "      <th>21</th>\n",
       "      <td>65.0</td>\n",
       "      <td>32.1</td>\n",
       "      <td>38.1</td>\n",
       "      <td>61.5</td>\n",
       "      <td>6.0</td>\n",
       "      <td>11.0</td>\n",
       "      <td>0.0</td>\n",
       "      <td>13.0</td>\n",
       "      <td>6.0</td>\n",
       "    </tr>\n",
       "    <tr>\n",
       "      <th>1146</th>\n",
       "      <td>73.0</td>\n",
       "      <td>36.0</td>\n",
       "      <td>42.5</td>\n",
       "      <td>48.0</td>\n",
       "      <td>9.0</td>\n",
       "      <td>12.0</td>\n",
       "      <td>0.0</td>\n",
       "      <td>14.0</td>\n",
       "      <td>34.0</td>\n",
       "    </tr>\n",
       "    <tr>\n",
       "      <th>1176</th>\n",
       "      <td>77.0</td>\n",
       "      <td>16.7</td>\n",
       "      <td>56.8</td>\n",
       "      <td>78.3</td>\n",
       "      <td>9.0</td>\n",
       "      <td>16.0</td>\n",
       "      <td>0.0</td>\n",
       "      <td>14.0</td>\n",
       "      <td>10.0</td>\n",
       "    </tr>\n",
       "    <tr>\n",
       "      <th>2291</th>\n",
       "      <td>70.0</td>\n",
       "      <td>43.5</td>\n",
       "      <td>34.4</td>\n",
       "      <td>78.3</td>\n",
       "      <td>8.0</td>\n",
       "      <td>15.0</td>\n",
       "      <td>0.0</td>\n",
       "      <td>25.0</td>\n",
       "      <td>30.0</td>\n",
       "    </tr>\n",
       "    <tr>\n",
       "      <th>2637</th>\n",
       "      <td>62.0</td>\n",
       "      <td>25.0</td>\n",
       "      <td>40.0</td>\n",
       "      <td>68.8</td>\n",
       "      <td>11.0</td>\n",
       "      <td>11.0</td>\n",
       "      <td>0.0</td>\n",
       "      <td>11.0</td>\n",
       "      <td>8.0</td>\n",
       "    </tr>\n",
       "  </tbody>\n",
       "</table>\n",
       "</div>"
      ],
      "text/plain": [
       "      a_points  a_three_points_pct  a_two_points_pct  a_free_throws_pct  \\\n",
       "21        65.0                32.1              38.1               61.5   \n",
       "1146      73.0                36.0              42.5               48.0   \n",
       "1176      77.0                16.7              56.8               78.3   \n",
       "2291      70.0                43.5              34.4               78.3   \n",
       "2637      62.0                25.0              40.0               68.8   \n",
       "\n",
       "      a_offensive_rebounds  a_assists  a_fast_break_pts  a_second_chance_pts  \\\n",
       "21                     6.0       11.0               0.0                 13.0   \n",
       "1146                   9.0       12.0               0.0                 14.0   \n",
       "1176                   9.0       16.0               0.0                 14.0   \n",
       "2291                   8.0       15.0               0.0                 25.0   \n",
       "2637                  11.0       11.0               0.0                 11.0   \n",
       "\n",
       "      a_points_off_turnovers  \n",
       "21                       6.0  \n",
       "1146                    34.0  \n",
       "1176                    10.0  \n",
       "2291                    30.0  \n",
       "2637                     8.0  "
      ]
     },
     "execution_count": 36,
     "metadata": {},
     "output_type": "execute_result"
    }
   ],
   "source": [
    "offense_a.head()"
   ]
  },
  {
   "cell_type": "code",
   "execution_count": 37,
   "metadata": {},
   "outputs": [],
   "source": [
    "#defensive category for away team\n",
    "defense_a = df[['a_defensive_rebounds', 'a_steals', 'a_blocks', ]]"
   ]
  },
  {
   "cell_type": "code",
   "execution_count": 38,
   "metadata": {},
   "outputs": [
    {
     "data": {
      "text/html": [
       "<div>\n",
       "<style scoped>\n",
       "    .dataframe tbody tr th:only-of-type {\n",
       "        vertical-align: middle;\n",
       "    }\n",
       "\n",
       "    .dataframe tbody tr th {\n",
       "        vertical-align: top;\n",
       "    }\n",
       "\n",
       "    .dataframe thead th {\n",
       "        text-align: right;\n",
       "    }\n",
       "</style>\n",
       "<table border=\"1\" class=\"dataframe\">\n",
       "  <thead>\n",
       "    <tr style=\"text-align: right;\">\n",
       "      <th></th>\n",
       "      <th>a_defensive_rebounds</th>\n",
       "      <th>a_steals</th>\n",
       "      <th>a_blocks</th>\n",
       "    </tr>\n",
       "  </thead>\n",
       "  <tbody>\n",
       "    <tr>\n",
       "      <th>21</th>\n",
       "      <td>14.0</td>\n",
       "      <td>2.0</td>\n",
       "      <td>1.0</td>\n",
       "    </tr>\n",
       "    <tr>\n",
       "      <th>1146</th>\n",
       "      <td>23.0</td>\n",
       "      <td>10.0</td>\n",
       "      <td>4.0</td>\n",
       "    </tr>\n",
       "    <tr>\n",
       "      <th>1176</th>\n",
       "      <td>39.0</td>\n",
       "      <td>2.0</td>\n",
       "      <td>9.0</td>\n",
       "    </tr>\n",
       "    <tr>\n",
       "      <th>2291</th>\n",
       "      <td>24.0</td>\n",
       "      <td>8.0</td>\n",
       "      <td>6.0</td>\n",
       "    </tr>\n",
       "    <tr>\n",
       "      <th>2637</th>\n",
       "      <td>17.0</td>\n",
       "      <td>5.0</td>\n",
       "      <td>1.0</td>\n",
       "    </tr>\n",
       "  </tbody>\n",
       "</table>\n",
       "</div>"
      ],
      "text/plain": [
       "      a_defensive_rebounds  a_steals  a_blocks\n",
       "21                    14.0       2.0       1.0\n",
       "1146                  23.0      10.0       4.0\n",
       "1176                  39.0       2.0       9.0\n",
       "2291                  24.0       8.0       6.0\n",
       "2637                  17.0       5.0       1.0"
      ]
     },
     "execution_count": 38,
     "metadata": {},
     "output_type": "execute_result"
    }
   ],
   "source": [
    "defense_a.head()"
   ]
  },
  {
   "cell_type": "code",
   "execution_count": 39,
   "metadata": {},
   "outputs": [
    {
     "data": {
      "text/html": [
       "<div>\n",
       "<style scoped>\n",
       "    .dataframe tbody tr th:only-of-type {\n",
       "        vertical-align: middle;\n",
       "    }\n",
       "\n",
       "    .dataframe tbody tr th {\n",
       "        vertical-align: top;\n",
       "    }\n",
       "\n",
       "    .dataframe thead th {\n",
       "        text-align: right;\n",
       "    }\n",
       "</style>\n",
       "<table border=\"1\" class=\"dataframe\">\n",
       "  <thead>\n",
       "    <tr style=\"text-align: right;\">\n",
       "      <th></th>\n",
       "      <th>h_points</th>\n",
       "      <th>h_three_points_pct</th>\n",
       "      <th>h_two_points_pct</th>\n",
       "      <th>h_free_throws_pct</th>\n",
       "      <th>h_offensive_rebounds</th>\n",
       "      <th>h_assists</th>\n",
       "      <th>h_fast_break_pts</th>\n",
       "      <th>h_second_chance_pts</th>\n",
       "      <th>h_points_off_turnovers</th>\n",
       "    </tr>\n",
       "  </thead>\n",
       "  <tbody>\n",
       "    <tr>\n",
       "      <th>h_points</th>\n",
       "      <td>1.000000</td>\n",
       "      <td>0.498072</td>\n",
       "      <td>0.533041</td>\n",
       "      <td>0.176549</td>\n",
       "      <td>0.153120</td>\n",
       "      <td>0.655362</td>\n",
       "      <td>0.365795</td>\n",
       "      <td>0.312289</td>\n",
       "      <td>0.377289</td>\n",
       "    </tr>\n",
       "    <tr>\n",
       "      <th>h_three_points_pct</th>\n",
       "      <td>0.498072</td>\n",
       "      <td>1.000000</td>\n",
       "      <td>0.075390</td>\n",
       "      <td>0.025455</td>\n",
       "      <td>-0.170032</td>\n",
       "      <td>0.464201</td>\n",
       "      <td>0.077414</td>\n",
       "      <td>-0.014736</td>\n",
       "      <td>0.130329</td>\n",
       "    </tr>\n",
       "    <tr>\n",
       "      <th>h_two_points_pct</th>\n",
       "      <td>0.533041</td>\n",
       "      <td>0.075390</td>\n",
       "      <td>1.000000</td>\n",
       "      <td>0.019739</td>\n",
       "      <td>-0.215200</td>\n",
       "      <td>0.441959</td>\n",
       "      <td>0.282529</td>\n",
       "      <td>-0.009439</td>\n",
       "      <td>0.212964</td>\n",
       "    </tr>\n",
       "    <tr>\n",
       "      <th>h_free_throws_pct</th>\n",
       "      <td>0.176549</td>\n",
       "      <td>0.025455</td>\n",
       "      <td>0.019739</td>\n",
       "      <td>1.000000</td>\n",
       "      <td>-0.100719</td>\n",
       "      <td>-0.013885</td>\n",
       "      <td>-0.012909</td>\n",
       "      <td>-0.024714</td>\n",
       "      <td>0.032325</td>\n",
       "    </tr>\n",
       "    <tr>\n",
       "      <th>h_offensive_rebounds</th>\n",
       "      <td>0.153120</td>\n",
       "      <td>-0.170032</td>\n",
       "      <td>-0.215200</td>\n",
       "      <td>-0.100719</td>\n",
       "      <td>1.000000</td>\n",
       "      <td>0.058183</td>\n",
       "      <td>0.080659</td>\n",
       "      <td>0.689543</td>\n",
       "      <td>0.110649</td>\n",
       "    </tr>\n",
       "    <tr>\n",
       "      <th>h_assists</th>\n",
       "      <td>0.655362</td>\n",
       "      <td>0.464201</td>\n",
       "      <td>0.441959</td>\n",
       "      <td>-0.013885</td>\n",
       "      <td>0.058183</td>\n",
       "      <td>1.000000</td>\n",
       "      <td>0.337941</td>\n",
       "      <td>0.160595</td>\n",
       "      <td>0.268668</td>\n",
       "    </tr>\n",
       "    <tr>\n",
       "      <th>h_fast_break_pts</th>\n",
       "      <td>0.365795</td>\n",
       "      <td>0.077414</td>\n",
       "      <td>0.282529</td>\n",
       "      <td>-0.012909</td>\n",
       "      <td>0.080659</td>\n",
       "      <td>0.337941</td>\n",
       "      <td>1.000000</td>\n",
       "      <td>0.083722</td>\n",
       "      <td>0.302001</td>\n",
       "    </tr>\n",
       "    <tr>\n",
       "      <th>h_second_chance_pts</th>\n",
       "      <td>0.312289</td>\n",
       "      <td>-0.014736</td>\n",
       "      <td>-0.009439</td>\n",
       "      <td>-0.024714</td>\n",
       "      <td>0.689543</td>\n",
       "      <td>0.160595</td>\n",
       "      <td>0.083722</td>\n",
       "      <td>1.000000</td>\n",
       "      <td>0.161652</td>\n",
       "    </tr>\n",
       "    <tr>\n",
       "      <th>h_points_off_turnovers</th>\n",
       "      <td>0.377289</td>\n",
       "      <td>0.130329</td>\n",
       "      <td>0.212964</td>\n",
       "      <td>0.032325</td>\n",
       "      <td>0.110649</td>\n",
       "      <td>0.268668</td>\n",
       "      <td>0.302001</td>\n",
       "      <td>0.161652</td>\n",
       "      <td>1.000000</td>\n",
       "    </tr>\n",
       "  </tbody>\n",
       "</table>\n",
       "</div>"
      ],
      "text/plain": [
       "                        h_points  h_three_points_pct  h_two_points_pct  \\\n",
       "h_points                1.000000            0.498072          0.533041   \n",
       "h_three_points_pct      0.498072            1.000000          0.075390   \n",
       "h_two_points_pct        0.533041            0.075390          1.000000   \n",
       "h_free_throws_pct       0.176549            0.025455          0.019739   \n",
       "h_offensive_rebounds    0.153120           -0.170032         -0.215200   \n",
       "h_assists               0.655362            0.464201          0.441959   \n",
       "h_fast_break_pts        0.365795            0.077414          0.282529   \n",
       "h_second_chance_pts     0.312289           -0.014736         -0.009439   \n",
       "h_points_off_turnovers  0.377289            0.130329          0.212964   \n",
       "\n",
       "                        h_free_throws_pct  h_offensive_rebounds  h_assists  \\\n",
       "h_points                         0.176549              0.153120   0.655362   \n",
       "h_three_points_pct               0.025455             -0.170032   0.464201   \n",
       "h_two_points_pct                 0.019739             -0.215200   0.441959   \n",
       "h_free_throws_pct                1.000000             -0.100719  -0.013885   \n",
       "h_offensive_rebounds            -0.100719              1.000000   0.058183   \n",
       "h_assists                       -0.013885              0.058183   1.000000   \n",
       "h_fast_break_pts                -0.012909              0.080659   0.337941   \n",
       "h_second_chance_pts             -0.024714              0.689543   0.160595   \n",
       "h_points_off_turnovers           0.032325              0.110649   0.268668   \n",
       "\n",
       "                        h_fast_break_pts  h_second_chance_pts  \\\n",
       "h_points                        0.365795             0.312289   \n",
       "h_three_points_pct              0.077414            -0.014736   \n",
       "h_two_points_pct                0.282529            -0.009439   \n",
       "h_free_throws_pct              -0.012909            -0.024714   \n",
       "h_offensive_rebounds            0.080659             0.689543   \n",
       "h_assists                       0.337941             0.160595   \n",
       "h_fast_break_pts                1.000000             0.083722   \n",
       "h_second_chance_pts             0.083722             1.000000   \n",
       "h_points_off_turnovers          0.302001             0.161652   \n",
       "\n",
       "                        h_points_off_turnovers  \n",
       "h_points                              0.377289  \n",
       "h_three_points_pct                    0.130329  \n",
       "h_two_points_pct                      0.212964  \n",
       "h_free_throws_pct                     0.032325  \n",
       "h_offensive_rebounds                  0.110649  \n",
       "h_assists                             0.268668  \n",
       "h_fast_break_pts                      0.302001  \n",
       "h_second_chance_pts                   0.161652  \n",
       "h_points_off_turnovers                1.000000  "
      ]
     },
     "execution_count": 39,
     "metadata": {},
     "output_type": "execute_result"
    }
   ],
   "source": [
    "offense_h.corr()"
   ]
  },
  {
   "cell_type": "markdown",
   "metadata": {},
   "source": [
    "Use a heatmap to plot the correlation to help see the relationships better visually."
   ]
  },
  {
   "cell_type": "code",
   "execution_count": 40,
   "metadata": {},
   "outputs": [
    {
     "data": {
      "text/plain": [
       "<matplotlib.axes._subplots.AxesSubplot at 0x1a194fa208>"
      ]
     },
     "execution_count": 40,
     "metadata": {},
     "output_type": "execute_result"
    },
    {
     "data": {
      "image/png": "[encoded data removed]",
      "text/plain": [
       "<Figure size 720x720 with 2 Axes>"
      ]
     },
     "metadata": {
      "needs_background": "light"
     },
     "output_type": "display_data"
    }
   ],
   "source": [
    "plt.figure(figsize=(10, 10))\n",
    "sns.heatmap(offense_h.corr(), cmap=sns.color_palette(\"GnBu_r\"))"
   ]
  },
  {
   "cell_type": "markdown",
   "metadata": {},
   "source": [
    "Ran a correlation for the offensive values to see what is related. As you can see, points is correlated with three point percentage, two point percentage, as well as assists. This is not surpsing because all these lead to points. These values, threes, twos, and assits are also all relatively correlated wirh eachother."
   ]
  },
  {
   "cell_type": "code",
   "execution_count": 41,
   "metadata": {},
   "outputs": [
    {
     "data": {
      "text/html": [
       "<div>\n",
       "<style scoped>\n",
       "    .dataframe tbody tr th:only-of-type {\n",
       "        vertical-align: middle;\n",
       "    }\n",
       "\n",
       "    .dataframe tbody tr th {\n",
       "        vertical-align: top;\n",
       "    }\n",
       "\n",
       "    .dataframe thead th {\n",
       "        text-align: right;\n",
       "    }\n",
       "</style>\n",
       "<table border=\"1\" class=\"dataframe\">\n",
       "  <thead>\n",
       "    <tr style=\"text-align: right;\">\n",
       "      <th></th>\n",
       "      <th>h_defensive_rebounds</th>\n",
       "      <th>h_steals</th>\n",
       "      <th>h_blocks</th>\n",
       "    </tr>\n",
       "  </thead>\n",
       "  <tbody>\n",
       "    <tr>\n",
       "      <th>h_defensive_rebounds</th>\n",
       "      <td>1.000000</td>\n",
       "      <td>-0.085674</td>\n",
       "      <td>0.258006</td>\n",
       "    </tr>\n",
       "    <tr>\n",
       "      <th>h_steals</th>\n",
       "      <td>-0.085674</td>\n",
       "      <td>1.000000</td>\n",
       "      <td>0.068710</td>\n",
       "    </tr>\n",
       "    <tr>\n",
       "      <th>h_blocks</th>\n",
       "      <td>0.258006</td>\n",
       "      <td>0.068710</td>\n",
       "      <td>1.000000</td>\n",
       "    </tr>\n",
       "  </tbody>\n",
       "</table>\n",
       "</div>"
      ],
      "text/plain": [
       "                      h_defensive_rebounds  h_steals  h_blocks\n",
       "h_defensive_rebounds              1.000000 -0.085674  0.258006\n",
       "h_steals                         -0.085674  1.000000  0.068710\n",
       "h_blocks                          0.258006  0.068710  1.000000"
      ]
     },
     "execution_count": 41,
     "metadata": {},
     "output_type": "execute_result"
    }
   ],
   "source": [
    "defense_h.corr()"
   ]
  },
  {
   "cell_type": "code",
   "execution_count": 42,
   "metadata": {},
   "outputs": [
    {
     "data": {
      "text/plain": [
       "<matplotlib.axes._subplots.AxesSubplot at 0x1a19d184a8>"
      ]
     },
     "execution_count": 42,
     "metadata": {},
     "output_type": "execute_result"
    },
    {
     "data": {
      "image/png": "[encoded data removed]",
      "text/plain": [
       "<Figure size 360x360 with 2 Axes>"
      ]
     },
     "metadata": {
      "needs_background": "light"
     },
     "output_type": "display_data"
    }
   ],
   "source": [
    "plt.figure(figsize=(5, 5))\n",
    "sns.heatmap(defense_h.corr(), cmap=sns.color_palette(\"GnBu_r\"))"
   ]
  },
  {
   "cell_type": "markdown",
   "metadata": {},
   "source": [
    "As you can see from the corrlation above, the defensive categories are not strongly related."
   ]
  },
  {
   "cell_type": "markdown",
   "metadata": {},
   "source": [
    "# Regression Analysis\n",
    "Use logistic regression to describe the data and explain the relationship between the target (win/loss) and the independent features."
   ]
  },
  {
   "cell_type": "markdown",
   "metadata": {},
   "source": [
    "#### Offense "
   ]
  },
  {
   "cell_type": "code",
   "execution_count": 43,
   "metadata": {},
   "outputs": [],
   "source": [
    "ncaa_h_off = ncaa[['h_points', 'h_three_points_pct', 'h_two_points_pct', \n",
    "                'h_free_throws_pct', 'h_offensive_rebounds', 'h_assists', \n",
    "                'h_fast_break_pts', 'h_second_chance_pts', 'h_points_off_turnovers', 'win_h']]"
   ]
  },
  {
   "cell_type": "code",
   "execution_count": 44,
   "metadata": {},
   "outputs": [
    {
     "data": {
      "text/html": [
       "<div>\n",
       "<style scoped>\n",
       "    .dataframe tbody tr th:only-of-type {\n",
       "        vertical-align: middle;\n",
       "    }\n",
       "\n",
       "    .dataframe tbody tr th {\n",
       "        vertical-align: top;\n",
       "    }\n",
       "\n",
       "    .dataframe thead th {\n",
       "        text-align: right;\n",
       "    }\n",
       "</style>\n",
       "<table border=\"1\" class=\"dataframe\">\n",
       "  <thead>\n",
       "    <tr style=\"text-align: right;\">\n",
       "      <th></th>\n",
       "      <th>h_points</th>\n",
       "      <th>h_three_points_pct</th>\n",
       "      <th>h_two_points_pct</th>\n",
       "      <th>h_free_throws_pct</th>\n",
       "      <th>h_offensive_rebounds</th>\n",
       "      <th>h_assists</th>\n",
       "      <th>h_fast_break_pts</th>\n",
       "      <th>h_second_chance_pts</th>\n",
       "      <th>h_points_off_turnovers</th>\n",
       "      <th>win_h</th>\n",
       "    </tr>\n",
       "  </thead>\n",
       "  <tbody>\n",
       "    <tr>\n",
       "      <th>0</th>\n",
       "      <td>93.0</td>\n",
       "      <td>41.7</td>\n",
       "      <td>62.8</td>\n",
       "      <td>60.0</td>\n",
       "      <td>14.0</td>\n",
       "      <td>20.0</td>\n",
       "      <td>0.0</td>\n",
       "      <td>32.0</td>\n",
       "      <td>40.0</td>\n",
       "      <td>1.0</td>\n",
       "    </tr>\n",
       "    <tr>\n",
       "      <th>1</th>\n",
       "      <td>78.0</td>\n",
       "      <td>15.0</td>\n",
       "      <td>46.9</td>\n",
       "      <td>76.7</td>\n",
       "      <td>23.0</td>\n",
       "      <td>12.0</td>\n",
       "      <td>0.0</td>\n",
       "      <td>50.0</td>\n",
       "      <td>14.0</td>\n",
       "      <td>1.0</td>\n",
       "    </tr>\n",
       "    <tr>\n",
       "      <th>2</th>\n",
       "      <td>75.0</td>\n",
       "      <td>28.6</td>\n",
       "      <td>30.6</td>\n",
       "      <td>72.4</td>\n",
       "      <td>12.0</td>\n",
       "      <td>10.0</td>\n",
       "      <td>0.0</td>\n",
       "      <td>40.0</td>\n",
       "      <td>40.0</td>\n",
       "      <td>0.0</td>\n",
       "    </tr>\n",
       "    <tr>\n",
       "      <th>3</th>\n",
       "      <td>58.0</td>\n",
       "      <td>33.3</td>\n",
       "      <td>40.0</td>\n",
       "      <td>54.2</td>\n",
       "      <td>10.0</td>\n",
       "      <td>11.0</td>\n",
       "      <td>0.0</td>\n",
       "      <td>15.0</td>\n",
       "      <td>18.0</td>\n",
       "      <td>0.0</td>\n",
       "    </tr>\n",
       "    <tr>\n",
       "      <th>4</th>\n",
       "      <td>79.0</td>\n",
       "      <td>50.0</td>\n",
       "      <td>60.6</td>\n",
       "      <td>77.4</td>\n",
       "      <td>2.0</td>\n",
       "      <td>13.0</td>\n",
       "      <td>0.0</td>\n",
       "      <td>2.0</td>\n",
       "      <td>14.0</td>\n",
       "      <td>1.0</td>\n",
       "    </tr>\n",
       "  </tbody>\n",
       "</table>\n",
       "</div>"
      ],
      "text/plain": [
       "   h_points  h_three_points_pct  h_two_points_pct  h_free_throws_pct  \\\n",
       "0      93.0                41.7              62.8               60.0   \n",
       "1      78.0                15.0              46.9               76.7   \n",
       "2      75.0                28.6              30.6               72.4   \n",
       "3      58.0                33.3              40.0               54.2   \n",
       "4      79.0                50.0              60.6               77.4   \n",
       "\n",
       "   h_offensive_rebounds  h_assists  h_fast_break_pts  h_second_chance_pts  \\\n",
       "0                  14.0       20.0               0.0                 32.0   \n",
       "1                  23.0       12.0               0.0                 50.0   \n",
       "2                  12.0       10.0               0.0                 40.0   \n",
       "3                  10.0       11.0               0.0                 15.0   \n",
       "4                   2.0       13.0               0.0                  2.0   \n",
       "\n",
       "   h_points_off_turnovers  win_h  \n",
       "0                    40.0    1.0  \n",
       "1                    14.0    1.0  \n",
       "2                    40.0    0.0  \n",
       "3                    18.0    0.0  \n",
       "4                    14.0    1.0  "
      ]
     },
     "execution_count": 44,
     "metadata": {},
     "output_type": "execute_result"
    }
   ],
   "source": [
    "ncaa_h_off.head()"
   ]
  },
  {
   "cell_type": "code",
   "execution_count": 45,
   "metadata": {},
   "outputs": [],
   "source": [
    "x = ncaa_h_off[ncaa_h_off.columns[:-1]]\n",
    "y = ncaa_h_off.win_h"
   ]
  },
  {
   "cell_type": "markdown",
   "metadata": {},
   "source": [
    "Below we will normalize the data because the features all have different values, which can lead to skewed results. We will then train/test the data to run the logistic regression."
   ]
  },
  {
   "cell_type": "code",
   "execution_count": 46,
   "metadata": {},
   "outputs": [
    {
     "data": {
      "text/html": [
       "<div>\n",
       "<style scoped>\n",
       "    .dataframe tbody tr th:only-of-type {\n",
       "        vertical-align: middle;\n",
       "    }\n",
       "\n",
       "    .dataframe tbody tr th {\n",
       "        vertical-align: top;\n",
       "    }\n",
       "\n",
       "    .dataframe thead th {\n",
       "        text-align: right;\n",
       "    }\n",
       "</style>\n",
       "<table border=\"1\" class=\"dataframe\">\n",
       "  <thead>\n",
       "    <tr style=\"text-align: right;\">\n",
       "      <th></th>\n",
       "      <th>h_points</th>\n",
       "      <th>h_three_points_pct</th>\n",
       "      <th>h_two_points_pct</th>\n",
       "      <th>h_free_throws_pct</th>\n",
       "      <th>h_offensive_rebounds</th>\n",
       "      <th>h_assists</th>\n",
       "      <th>h_fast_break_pts</th>\n",
       "      <th>h_second_chance_pts</th>\n",
       "      <th>h_points_off_turnovers</th>\n",
       "      <th>win_h</th>\n",
       "    </tr>\n",
       "  </thead>\n",
       "  <tbody>\n",
       "    <tr>\n",
       "      <th>0</th>\n",
       "      <td>0.628571</td>\n",
       "      <td>0.463333</td>\n",
       "      <td>0.654795</td>\n",
       "      <td>0.600</td>\n",
       "      <td>0.482759</td>\n",
       "      <td>0.529412</td>\n",
       "      <td>0.0</td>\n",
       "      <td>0.615385</td>\n",
       "      <td>0.62500</td>\n",
       "      <td>1.0</td>\n",
       "    </tr>\n",
       "    <tr>\n",
       "      <th>1</th>\n",
       "      <td>0.485714</td>\n",
       "      <td>0.166667</td>\n",
       "      <td>0.436986</td>\n",
       "      <td>0.767</td>\n",
       "      <td>0.793103</td>\n",
       "      <td>0.294118</td>\n",
       "      <td>0.0</td>\n",
       "      <td>0.961538</td>\n",
       "      <td>0.21875</td>\n",
       "      <td>1.0</td>\n",
       "    </tr>\n",
       "    <tr>\n",
       "      <th>2</th>\n",
       "      <td>0.457143</td>\n",
       "      <td>0.317778</td>\n",
       "      <td>0.213699</td>\n",
       "      <td>0.724</td>\n",
       "      <td>0.413793</td>\n",
       "      <td>0.235294</td>\n",
       "      <td>0.0</td>\n",
       "      <td>0.769231</td>\n",
       "      <td>0.62500</td>\n",
       "      <td>0.0</td>\n",
       "    </tr>\n",
       "    <tr>\n",
       "      <th>3</th>\n",
       "      <td>0.295238</td>\n",
       "      <td>0.370000</td>\n",
       "      <td>0.342466</td>\n",
       "      <td>0.542</td>\n",
       "      <td>0.344828</td>\n",
       "      <td>0.264706</td>\n",
       "      <td>0.0</td>\n",
       "      <td>0.288462</td>\n",
       "      <td>0.28125</td>\n",
       "      <td>0.0</td>\n",
       "    </tr>\n",
       "    <tr>\n",
       "      <th>4</th>\n",
       "      <td>0.495238</td>\n",
       "      <td>0.555556</td>\n",
       "      <td>0.624658</td>\n",
       "      <td>0.774</td>\n",
       "      <td>0.068966</td>\n",
       "      <td>0.323529</td>\n",
       "      <td>0.0</td>\n",
       "      <td>0.038462</td>\n",
       "      <td>0.21875</td>\n",
       "      <td>1.0</td>\n",
       "    </tr>\n",
       "  </tbody>\n",
       "</table>\n",
       "</div>"
      ],
      "text/plain": [
       "   h_points  h_three_points_pct  h_two_points_pct  h_free_throws_pct  \\\n",
       "0  0.628571            0.463333          0.654795              0.600   \n",
       "1  0.485714            0.166667          0.436986              0.767   \n",
       "2  0.457143            0.317778          0.213699              0.724   \n",
       "3  0.295238            0.370000          0.342466              0.542   \n",
       "4  0.495238            0.555556          0.624658              0.774   \n",
       "\n",
       "   h_offensive_rebounds  h_assists  h_fast_break_pts  h_second_chance_pts  \\\n",
       "0              0.482759   0.529412               0.0             0.615385   \n",
       "1              0.793103   0.294118               0.0             0.961538   \n",
       "2              0.413793   0.235294               0.0             0.769231   \n",
       "3              0.344828   0.264706               0.0             0.288462   \n",
       "4              0.068966   0.323529               0.0             0.038462   \n",
       "\n",
       "   h_points_off_turnovers  win_h  \n",
       "0                 0.62500    1.0  \n",
       "1                 0.21875    1.0  \n",
       "2                 0.62500    0.0  \n",
       "3                 0.28125    0.0  \n",
       "4                 0.21875    1.0  "
      ]
     },
     "execution_count": 46,
     "metadata": {},
     "output_type": "execute_result"
    }
   ],
   "source": [
    "for col in ncaa_h_off.columns:\n",
    "    ncaa_h_off[col] = (ncaa_h_off[col]-min(ncaa_h_off[col]))/ (max(ncaa_h_off[col]) - min(ncaa_h_off[col]))\n",
    "ncaa_h_off.head()\n"
   ]
  },
  {
   "cell_type": "code",
   "execution_count": 47,
   "metadata": {},
   "outputs": [],
   "source": [
    "#train test split\n",
    "x_train, x_test, y_train, y_test = train_test_split(x, y, random_state=0)"
   ]
  },
  {
   "cell_type": "code",
   "execution_count": 48,
   "metadata": {},
   "outputs": [
    {
     "data": {
      "text/plain": [
       "LogisticRegression(C=1000000000000.0, class_weight=None, dual=False,\n",
       "          fit_intercept=False, intercept_scaling=1, max_iter=100,\n",
       "          multi_class='warn', n_jobs=None, penalty='l2', random_state=None,\n",
       "          solver='warn', tol=0.0001, verbose=0, warm_start=False)"
      ]
     },
     "execution_count": 48,
     "metadata": {},
     "output_type": "execute_result"
    }
   ],
   "source": [
    "#fit model\n",
    "logreg = LogisticRegression(fit_intercept = False, C = 1e12) #Starter code\n",
    "#Your code here\n",
    "model_log = logreg.fit(x_train, y_train)\n",
    "model_log"
   ]
  },
  {
   "cell_type": "code",
   "execution_count": 49,
   "metadata": {},
   "outputs": [],
   "source": [
    "#predict\n",
    "y_hat_test = logreg.predict(x_test)\n",
    "y_hat_train = logreg.predict(x_train)"
   ]
  },
  {
   "cell_type": "code",
   "execution_count": 50,
   "metadata": {},
   "outputs": [
    {
     "name": "stdout",
     "output_type": "stream",
     "text": [
      " 0.0    2282\n",
      "-1.0     665\n",
      " 1.0     169\n",
      "Name: win_h, dtype: int64\n",
      " 0.0    0.732349\n",
      "-1.0    0.213415\n",
      " 1.0    0.054236\n",
      "Name: win_h, dtype: float64\n"
     ]
    }
   ],
   "source": [
    "residuals = y_train - y_hat_train\n",
    "print(pd.Series(residuals).value_counts())\n",
    "print(pd.Series(residuals).value_counts(normalize=True))"
   ]
  },
  {
   "cell_type": "code",
   "execution_count": 51,
   "metadata": {},
   "outputs": [
    {
     "name": "stdout",
     "output_type": "stream",
     "text": [
      " 0.0    740\n",
      "-1.0    237\n",
      " 1.0     62\n",
      "Name: win_h, dtype: int64\n",
      " 0.0    0.712223\n",
      "-1.0    0.228104\n",
      " 1.0    0.059673\n",
      "Name: win_h, dtype: float64\n"
     ]
    }
   ],
   "source": [
    "residuals = y_test - y_hat_test\n",
    "print(pd.Series(residuals).value_counts())\n",
    "print(pd.Series(residuals).value_counts(normalize=True))"
   ]
  },
  {
   "cell_type": "markdown",
   "metadata": {},
   "source": [
    "With this data set we use the accuracy to tets our results. We are using accuracy because we are testing to see if our prediction is either right or wrong. There is no penalty for a prediction being wrong, which could be the case regarding medical tetsing."
   ]
  },
  {
   "cell_type": "code",
   "execution_count": 52,
   "metadata": {},
   "outputs": [],
   "source": [
    "#test accuracy\n",
    "def accuracy(y_hat, y):\n",
    "    #Could also use confusion matrix\n",
    "    y_y_hat = list(zip(y, y_hat))\n",
    "    tp = sum([1 for i in y_y_hat if i[0]==1 and i[1]==1])\n",
    "    tn = sum([1 for i in y_y_hat if i[0]==0 and i[1]==0])\n",
    "    return (tp+tn)/float(len(y_hat))"
   ]
  },
  {
   "cell_type": "code",
   "execution_count": 53,
   "metadata": {},
   "outputs": [
    {
     "name": "stdout",
     "output_type": "stream",
     "text": [
      "Training Accuracy:  0.7323491655969191\n",
      "Testing Accuracy:  0.7122232916265641\n"
     ]
    }
   ],
   "source": [
    "y_hat_test = logreg.predict(x_test)\n",
    "y_hat_train = logreg.predict(x_train)\n",
    "\n",
    "print('Training Accuracy: ', accuracy(y_hat_train, y_train))\n",
    "print('Testing Accuracy: ', accuracy(y_hat_test, y_test))"
   ]
  },
  {
   "cell_type": "markdown",
   "metadata": {},
   "source": [
    "Our model is about 71% accurate when testing our data."
   ]
  },
  {
   "cell_type": "code",
   "execution_count": 54,
   "metadata": {},
   "outputs": [],
   "source": [
    "#plotting accuracy\n",
    "training_Accuracy = []\n",
    "testing_Accuracy = []\n",
    "\n",
    "for i in range(10,95):\n",
    "    x_train, x_test, y_train, y_test = train_test_split(x, y, test_size=i/100.0)\n",
    "    logreg = LogisticRegression(fit_intercept = False, C = 1e12)\n",
    "    model_log = logreg.fit(x_train, y_train)\n",
    "    y_hat_test = logreg.predict(x_test)\n",
    "    y_hat_train = logreg.predict(x_train)\n",
    "\n",
    "    training_Accuracy.append(accuracy(y_hat_train, y_train))\n",
    "    testing_Accuracy.append(accuracy(y_hat_test, y_test))"
   ]
  },
  {
   "cell_type": "code",
   "execution_count": 55,
   "metadata": {},
   "outputs": [
    {
     "data": {
      "text/plain": [
       "<matplotlib.legend.Legend at 0x1a1be456a0>"
      ]
     },
     "execution_count": 55,
     "metadata": {},
     "output_type": "execute_result"
    },
    {
     "data": {
      "image/png": "[encoded data removed]",
      "text/plain": [
       "<Figure size 432x288 with 1 Axes>"
      ]
     },
     "metadata": {
      "needs_background": "light"
     },
     "output_type": "display_data"
    }
   ],
   "source": [
    "plt.scatter(list(range(10,95)), training_Accuracy, label = 'training_Accuracy')\n",
    "plt.scatter(list(range(10,95)), testing_Accuracy, label = 'testing_Accuracy')\n",
    "plt.legend()"
   ]
  },
  {
   "cell_type": "code",
   "execution_count": 56,
   "metadata": {},
   "outputs": [
    {
     "name": "stdout",
     "output_type": "stream",
     "text": [
      "Confusion Matrix:\n",
      " [[ 332  224]\n",
      " [ 900 2450]]\n"
     ]
    }
   ],
   "source": [
    "cnf_matrix = confusion_matrix(y_hat_test, y_test)\n",
    "print('Confusion Matrix:\\n',cnf_matrix)"
   ]
  },
  {
   "cell_type": "code",
   "execution_count": 57,
   "metadata": {},
   "outputs": [
    {
     "data": {
      "text/plain": [
       "<matplotlib.colorbar.Colorbar at 0x1a1a243550>"
      ]
     },
     "execution_count": 57,
     "metadata": {},
     "output_type": "execute_result"
    },
    {
     "data": {
      "image/png": "[encoded data removed]",
      "text/plain": [
       "<Figure size 432x288 with 2 Axes>"
      ]
     },
     "metadata": {
      "needs_background": "light"
     },
     "output_type": "display_data"
    }
   ],
   "source": [
    "plt.imshow(cnf_matrix,  cmap=plt.cm.Blues) #Create the basic matrix.\n",
    "\n",
    "plt.title('Confusion Matrix Offense')\n",
    "plt.ylabel('True label')\n",
    "plt.xlabel('Predicted label')\n",
    "\n",
    "class_names = set(y)\n",
    "tick_marks = np.arange(len(class_names))\n",
    "plt.xticks(tick_marks, class_names, rotation=45)\n",
    "plt.yticks(tick_marks, class_names)\n",
    "\n",
    "thresh = cnf_matrix.max() / 2. #Used for text coloring below\n",
    "#Here we iterate through the confusion matrix and append labels to our visualization.\n",
    "for i, j in itertools.product(range(cnf_matrix.shape[0]), range(cnf_matrix.shape[1])):\n",
    "        plt.text(j, i, cnf_matrix[i, j],\n",
    "                 horizontalalignment=\"center\",\n",
    "                 color=\"white\" if cnf_matrix[i, j] > thresh else \"black\")\n",
    "\n",
    "#Add a Side Bar Legend Showing Colors\n",
    "plt.colorbar()"
   ]
  },
  {
   "cell_type": "markdown",
   "metadata": {},
   "source": [
    "The confusion matrix shows us thst our model accurately predicts a win when the home team wins a large number of times. Comparatively there is a low number of predictions of a loss when a team looses. This could mean that our data and tests are a better predictive of wins than they are of losses."
   ]
  },
  {
   "cell_type": "code",
   "execution_count": 58,
   "metadata": {},
   "outputs": [],
   "source": [
    "def plot_confusion_matrix(cm, classes,\n",
    "                          normalize=False,\n",
    "                          title='Confusion matrix',\n",
    "                          cmap=plt.cm.Blues):\n",
    "    #Add Normalization Option\n",
    "    if normalize:\n",
    "        cm = cm.astype('float') / cm.sum(axis=1)[:, np.newaxis]\n",
    "        print(\"Normalized confusion matrix\")\n",
    "    else:\n",
    "        print('Confusion matrix, without normalization')\n",
    "\n",
    "    print(cm)\n",
    "\n",
    "    plt.imshow(cm, interpolation='nearest', cmap=cmap)\n",
    "    plt.title(title)\n",
    "    plt.colorbar()\n",
    "    tick_marks = np.arange(len(classes))\n",
    "    plt.xticks(tick_marks, classes, rotation=45)\n",
    "    plt.yticks(tick_marks, classes)\n",
    "\n",
    "    fmt = '.2f' if normalize else 'd'\n",
    "    thresh = cm.max() / 2.\n",
    "    for i, j in itertools.product(range(cm.shape[0]), range(cm.shape[1])):\n",
    "        plt.text(j, i, format(cm[i, j], fmt),\n",
    "                 horizontalalignment=\"center\",\n",
    "                 color=\"white\" if cm[i, j] > thresh else \"black\")\n",
    "\n",
    "    plt.tight_layout()\n",
    "    plt.ylabel('True label')\n",
    "    plt.xlabel('Predicted label')"
   ]
  },
  {
   "cell_type": "code",
   "execution_count": 59,
   "metadata": {},
   "outputs": [
    {
     "name": "stdout",
     "output_type": "stream",
     "text": [
      "Normalized confusion matrix\n",
      "[[0.5971223  0.4028777 ]\n",
      " [0.26865672 0.73134328]]\n"
     ]
    },
    {
     "data": {
      "image/png": "[encoded data removed]",
      "text/plain": [
       "<Figure size 432x288 with 2 Axes>"
      ]
     },
     "metadata": {
      "needs_background": "light"
     },
     "output_type": "display_data"
    }
   ],
   "source": [
    "# Plot normalized confusion matrix\n",
    "plt.figure()\n",
    "plot_confusion_matrix(cnf_matrix, classes=class_names, normalize=True,\n",
    "                      title='Normalized confusion matrix')\n",
    "\n",
    "plt.show()"
   ]
  },
  {
   "cell_type": "markdown",
   "metadata": {},
   "source": [
    "Both original and normalized confusion matrices show that our accuracy is high when predicting a win accurately. "
   ]
  },
  {
   "cell_type": "code",
   "execution_count": 60,
   "metadata": {},
   "outputs": [
    {
     "name": "stdout",
     "output_type": "stream",
     "text": [
      "AUC: 0.7259686835229093\n"
     ]
    }
   ],
   "source": [
    "y_score = logreg.fit(x_train, y_train).decision_function(x_test)\n",
    "\n",
    "fpr, tpr, thresholds = roc_curve(y_test, y_score)\n",
    "\n",
    "print('AUC: {}'.format(auc(fpr, tpr)))"
   ]
  },
  {
   "cell_type": "code",
   "execution_count": 61,
   "metadata": {},
   "outputs": [
    {
     "data": {
      "image/png": "[encoded data removed]",
      "text/plain": [
       "<Figure size 720x576 with 1 Axes>"
      ]
     },
     "metadata": {
      "needs_background": "light"
     },
     "output_type": "display_data"
    }
   ],
   "source": [
    "#sns.set_style(\"darkgrid\", {\"axes.facecolor\": \".9\"})\n",
    "\n",
    "plt.figure(figsize=(10,8))\n",
    "lw = 2\n",
    "plt.plot(fpr, tpr,\n",
    "         lw=lw, label='ROC curve')\n",
    "plt.plot([0, 1], [0, 1], lw=lw, linestyle='--')\n",
    "plt.xlim([0.0, 1.0])\n",
    "plt.ylim([0.0, 1.05])\n",
    "plt.yticks([i/20.0 for i in range(21)])\n",
    "plt.xticks([i/20.0 for i in range(21)])\n",
    "plt.xlabel('False Positive Rate')\n",
    "plt.ylabel('True Positive Rate')\n",
    "plt.title('Receiver operating characteristic (ROC) Curve')\n",
    "plt.legend(loc=\"lower right\")\n",
    "plt.show()"
   ]
  },
  {
   "cell_type": "markdown",
   "metadata": {},
   "source": [
    "#### Defense"
   ]
  },
  {
   "cell_type": "code",
   "execution_count": 62,
   "metadata": {},
   "outputs": [],
   "source": [
    "ncaa_h_def = ncaa[['h_defensive_rebounds', 'h_steals', 'h_blocks', 'win_h']]"
   ]
  },
  {
   "cell_type": "code",
   "execution_count": 63,
   "metadata": {},
   "outputs": [
    {
     "data": {
      "text/html": [
       "<div>\n",
       "<style scoped>\n",
       "    .dataframe tbody tr th:only-of-type {\n",
       "        vertical-align: middle;\n",
       "    }\n",
       "\n",
       "    .dataframe tbody tr th {\n",
       "        vertical-align: top;\n",
       "    }\n",
       "\n",
       "    .dataframe thead th {\n",
       "        text-align: right;\n",
       "    }\n",
       "</style>\n",
       "<table border=\"1\" class=\"dataframe\">\n",
       "  <thead>\n",
       "    <tr style=\"text-align: right;\">\n",
       "      <th></th>\n",
       "      <th>h_defensive_rebounds</th>\n",
       "      <th>h_steals</th>\n",
       "      <th>h_blocks</th>\n",
       "      <th>win_h</th>\n",
       "    </tr>\n",
       "  </thead>\n",
       "  <tbody>\n",
       "    <tr>\n",
       "      <th>0</th>\n",
       "      <td>30.0</td>\n",
       "      <td>6.0</td>\n",
       "      <td>4.0</td>\n",
       "      <td>1.0</td>\n",
       "    </tr>\n",
       "    <tr>\n",
       "      <th>1</th>\n",
       "      <td>33.0</td>\n",
       "      <td>2.0</td>\n",
       "      <td>11.0</td>\n",
       "      <td>1.0</td>\n",
       "    </tr>\n",
       "    <tr>\n",
       "      <th>2</th>\n",
       "      <td>18.0</td>\n",
       "      <td>7.0</td>\n",
       "      <td>5.0</td>\n",
       "      <td>0.0</td>\n",
       "    </tr>\n",
       "    <tr>\n",
       "      <th>3</th>\n",
       "      <td>24.0</td>\n",
       "      <td>4.0</td>\n",
       "      <td>2.0</td>\n",
       "      <td>0.0</td>\n",
       "    </tr>\n",
       "    <tr>\n",
       "      <th>4</th>\n",
       "      <td>30.0</td>\n",
       "      <td>3.0</td>\n",
       "      <td>6.0</td>\n",
       "      <td>1.0</td>\n",
       "    </tr>\n",
       "  </tbody>\n",
       "</table>\n",
       "</div>"
      ],
      "text/plain": [
       "   h_defensive_rebounds  h_steals  h_blocks  win_h\n",
       "0                  30.0       6.0       4.0    1.0\n",
       "1                  33.0       2.0      11.0    1.0\n",
       "2                  18.0       7.0       5.0    0.0\n",
       "3                  24.0       4.0       2.0    0.0\n",
       "4                  30.0       3.0       6.0    1.0"
      ]
     },
     "execution_count": 63,
     "metadata": {},
     "output_type": "execute_result"
    }
   ],
   "source": [
    "ncaa_h_def.head()"
   ]
  },
  {
   "cell_type": "code",
   "execution_count": 64,
   "metadata": {},
   "outputs": [],
   "source": [
    "x = ncaa_h_def[ncaa_h_def.columns[:-1]]\n",
    "y = ncaa_h_def.win_h"
   ]
  },
  {
   "cell_type": "markdown",
   "metadata": {},
   "source": [
    "Must normalize the data so the features can be compared equally."
   ]
  },
  {
   "cell_type": "code",
   "execution_count": 65,
   "metadata": {},
   "outputs": [
    {
     "data": {
      "text/html": [
       "<div>\n",
       "<style scoped>\n",
       "    .dataframe tbody tr th:only-of-type {\n",
       "        vertical-align: middle;\n",
       "    }\n",
       "\n",
       "    .dataframe tbody tr th {\n",
       "        vertical-align: top;\n",
       "    }\n",
       "\n",
       "    .dataframe thead th {\n",
       "        text-align: right;\n",
       "    }\n",
       "</style>\n",
       "<table border=\"1\" class=\"dataframe\">\n",
       "  <thead>\n",
       "    <tr style=\"text-align: right;\">\n",
       "      <th></th>\n",
       "      <th>h_defensive_rebounds</th>\n",
       "      <th>h_steals</th>\n",
       "      <th>h_blocks</th>\n",
       "      <th>win_h</th>\n",
       "    </tr>\n",
       "  </thead>\n",
       "  <tbody>\n",
       "    <tr>\n",
       "      <th>0</th>\n",
       "      <td>0.568182</td>\n",
       "      <td>0.315789</td>\n",
       "      <td>0.2500</td>\n",
       "      <td>1.0</td>\n",
       "    </tr>\n",
       "    <tr>\n",
       "      <th>1</th>\n",
       "      <td>0.636364</td>\n",
       "      <td>0.105263</td>\n",
       "      <td>0.6875</td>\n",
       "      <td>1.0</td>\n",
       "    </tr>\n",
       "    <tr>\n",
       "      <th>2</th>\n",
       "      <td>0.295455</td>\n",
       "      <td>0.368421</td>\n",
       "      <td>0.3125</td>\n",
       "      <td>0.0</td>\n",
       "    </tr>\n",
       "    <tr>\n",
       "      <th>3</th>\n",
       "      <td>0.431818</td>\n",
       "      <td>0.210526</td>\n",
       "      <td>0.1250</td>\n",
       "      <td>0.0</td>\n",
       "    </tr>\n",
       "    <tr>\n",
       "      <th>4</th>\n",
       "      <td>0.568182</td>\n",
       "      <td>0.157895</td>\n",
       "      <td>0.3750</td>\n",
       "      <td>1.0</td>\n",
       "    </tr>\n",
       "  </tbody>\n",
       "</table>\n",
       "</div>"
      ],
      "text/plain": [
       "   h_defensive_rebounds  h_steals  h_blocks  win_h\n",
       "0              0.568182  0.315789    0.2500    1.0\n",
       "1              0.636364  0.105263    0.6875    1.0\n",
       "2              0.295455  0.368421    0.3125    0.0\n",
       "3              0.431818  0.210526    0.1250    0.0\n",
       "4              0.568182  0.157895    0.3750    1.0"
      ]
     },
     "execution_count": 65,
     "metadata": {},
     "output_type": "execute_result"
    }
   ],
   "source": [
    "for col in ncaa_h_def.columns:\n",
    "    ncaa_h_def[col] = (ncaa_h_def[col]-min(ncaa_h_def[col]))/ (max(ncaa_h_def[col]) - min(ncaa_h_def[col]))\n",
    "ncaa_h_def.head()\n"
   ]
  },
  {
   "cell_type": "code",
   "execution_count": 66,
   "metadata": {},
   "outputs": [],
   "source": [
    "#train test split\n",
    "x_train, x_test, y_train, y_test = train_test_split(x, y, random_state=0)"
   ]
  },
  {
   "cell_type": "code",
   "execution_count": 67,
   "metadata": {},
   "outputs": [
    {
     "data": {
      "text/plain": [
       "LogisticRegression(C=1000000000000.0, class_weight=None, dual=False,\n",
       "          fit_intercept=False, intercept_scaling=1, max_iter=100,\n",
       "          multi_class='warn', n_jobs=None, penalty='l2', random_state=None,\n",
       "          solver='warn', tol=0.0001, verbose=0, warm_start=False)"
      ]
     },
     "execution_count": 67,
     "metadata": {},
     "output_type": "execute_result"
    }
   ],
   "source": [
    "#fit model\n",
    "logreg = LogisticRegression(fit_intercept = False, C = 1e12) #Starter code\n",
    "#Your code here\n",
    "model_log = logreg.fit(x_train, y_train)\n",
    "model_log"
   ]
  },
  {
   "cell_type": "code",
   "execution_count": 68,
   "metadata": {},
   "outputs": [],
   "source": [
    "#predict\n",
    "y_hat_test = logreg.predict(x_test)\n",
    "y_hat_train = logreg.predict(x_train)"
   ]
  },
  {
   "cell_type": "code",
   "execution_count": 69,
   "metadata": {},
   "outputs": [
    {
     "name": "stdout",
     "output_type": "stream",
     "text": [
      " 0.0    2144\n",
      "-1.0     972\n",
      "Name: win_h, dtype: int64\n",
      " 0.0    0.688062\n",
      "-1.0    0.311938\n",
      "Name: win_h, dtype: float64\n"
     ]
    }
   ],
   "source": [
    "residuals = y_train - y_hat_train\n",
    "print(pd.Series(residuals).value_counts())\n",
    "print(pd.Series(residuals).value_counts(normalize=True))"
   ]
  },
  {
   "cell_type": "code",
   "execution_count": 70,
   "metadata": {},
   "outputs": [],
   "source": [
    "#test accuracy\n",
    "def accuracy(y_hat, y):\n",
    "    #Could also use confusion matrix\n",
    "    y_y_hat = list(zip(y, y_hat))\n",
    "    tp = sum([1 for i in y_y_hat if i[0]==1 and i[1]==1])\n",
    "    tn = sum([1 for i in y_y_hat if i[0]==0 and i[1]==0])\n",
    "    return (tp+tn)/float(len(y_hat))"
   ]
  },
  {
   "cell_type": "code",
   "execution_count": 71,
   "metadata": {},
   "outputs": [
    {
     "name": "stdout",
     "output_type": "stream",
     "text": [
      "Training Accuracy:  0.6880616174582799\n",
      "Testing Accuracy:  0.6766121270452358\n"
     ]
    }
   ],
   "source": [
    "y_hat_test = logreg.predict(x_test)\n",
    "y_hat_train = logreg.predict(x_train)\n",
    "\n",
    "print('Training Accuracy: ', accuracy(y_hat_train, y_train))\n",
    "print('Testing Accuracy: ', accuracy(y_hat_test, y_test))"
   ]
  },
  {
   "cell_type": "markdown",
   "metadata": {},
   "source": [
    "Given the defensive data, the model accurately predicts the correct outcome about 68% of the time."
   ]
  },
  {
   "cell_type": "code",
   "execution_count": 72,
   "metadata": {},
   "outputs": [],
   "source": [
    "#plotting accuracy\n",
    "training_Accuracy = []\n",
    "testing_Accuracy = []\n",
    "\n",
    "for i in range(10,95):\n",
    "    x_train, x_test, y_train, y_test = train_test_split(x, y, test_size=i/100.0)\n",
    "    logreg = LogisticRegression(fit_intercept = False, C = 1e12)\n",
    "    model_log = logreg.fit(x_train, y_train)\n",
    "    y_hat_test = logreg.predict(x_test)\n",
    "    y_hat_train = logreg.predict(x_train)\n",
    "\n",
    "    training_Accuracy.append(accuracy(y_hat_train, y_train))\n",
    "    testing_Accuracy.append(accuracy(y_hat_test, y_test))"
   ]
  },
  {
   "cell_type": "code",
   "execution_count": 73,
   "metadata": {},
   "outputs": [
    {
     "data": {
      "text/plain": [
       "<matplotlib.legend.Legend at 0x1a1a1fda58>"
      ]
     },
     "execution_count": 73,
     "metadata": {},
     "output_type": "execute_result"
    },
    {
     "data": {
      "image/png": "[encoded data removed]",
      "text/plain": [
       "<Figure size 432x288 with 1 Axes>"
      ]
     },
     "metadata": {
      "needs_background": "light"
     },
     "output_type": "display_data"
    }
   ],
   "source": [
    "plt.scatter(list(range(10,95)), training_Accuracy, label = 'training_Accuracy')\n",
    "plt.scatter(list(range(10,95)), testing_Accuracy, label = 'testing_Accuracy')\n",
    "plt.legend()"
   ]
  },
  {
   "cell_type": "code",
   "execution_count": 74,
   "metadata": {},
   "outputs": [
    {
     "name": "stdout",
     "output_type": "stream",
     "text": [
      "Confusion Matrix:\n",
      " [[   0    0]\n",
      " [1236 2670]]\n"
     ]
    }
   ],
   "source": [
    "cnf_matrix = confusion_matrix(y_hat_test, y_test)\n",
    "print('Confusion Matrix:\\n',cnf_matrix)"
   ]
  },
  {
   "cell_type": "code",
   "execution_count": 75,
   "metadata": {},
   "outputs": [
    {
     "data": {
      "text/plain": [
       "<matplotlib.colorbar.Colorbar at 0x1a1beee898>"
      ]
     },
     "execution_count": 75,
     "metadata": {},
     "output_type": "execute_result"
    },
    {
     "data": {
      "image/png": "[encoded data removed]",
      "text/plain": [
       "<Figure size 432x288 with 2 Axes>"
      ]
     },
     "metadata": {
      "needs_background": "light"
     },
     "output_type": "display_data"
    }
   ],
   "source": [
    "plt.imshow(cnf_matrix,  cmap=plt.cm.Blues) #Create the basic matrix.\n",
    "\n",
    "plt.title('Confusion Matrix Defense')\n",
    "plt.ylabel('True label')\n",
    "plt.xlabel('Predicted label')\n",
    "\n",
    "class_names = set(y)\n",
    "tick_marks = np.arange(len(class_names))\n",
    "plt.xticks(tick_marks, class_names, rotation=45)\n",
    "plt.yticks(tick_marks, class_names)\n",
    "\n",
    "thresh = cnf_matrix.max() / 2. #Used for text coloring below\n",
    "#Here we iterate through the confusion matrix and append labels to our visualization.\n",
    "for i, j in itertools.product(range(cnf_matrix.shape[0]), range(cnf_matrix.shape[1])):\n",
    "        plt.text(j, i, cnf_matrix[i, j],\n",
    "                 horizontalalignment=\"center\",\n",
    "                 color=\"white\" if cnf_matrix[i, j] > thresh else \"black\")\n",
    "\n",
    "#Add a Side Bar Legend Showing Colors\n",
    "plt.colorbar()"
   ]
  },
  {
   "cell_type": "markdown",
   "metadata": {},
   "source": [
    "Like the confusion matrix for offense values, the defense can accurately contribute to selecting when a team wins a high number of times. This also shows the it is poor when predicting a loss."
   ]
  },
  {
   "cell_type": "code",
   "execution_count": 76,
   "metadata": {},
   "outputs": [],
   "source": [
    "def plot_confusion_matrix(cm, classes,\n",
    "                          normalize=False,\n",
    "                          title='Confusion matrix',\n",
    "                          cmap=plt.cm.Blues):\n",
    "    #Add Normalization Option\n",
    "    if normalize:\n",
    "        cm = cm.astype('float') / cm.sum(axis=1)[:, np.newaxis]\n",
    "        print(\"Normalized confusion matrix\")\n",
    "    else:\n",
    "        print('Confusion matrix, without normalization')\n",
    "\n",
    "    print(cm)\n",
    "\n",
    "    plt.imshow(cm, interpolation='nearest', cmap=cmap)\n",
    "    plt.title(title)\n",
    "    plt.colorbar()\n",
    "    tick_marks = np.arange(len(classes))\n",
    "    plt.xticks(tick_marks, classes, rotation=45)\n",
    "    plt.yticks(tick_marks, classes)\n",
    "\n",
    "    fmt = '.2f' if normalize else 'd'\n",
    "    thresh = cm.max() / 2.\n",
    "    for i, j in itertools.product(range(cm.shape[0]), range(cm.shape[1])):\n",
    "        plt.text(j, i, format(cm[i, j], fmt),\n",
    "                 horizontalalignment=\"center\",\n",
    "                 color=\"white\" if cm[i, j] > thresh else \"black\")\n",
    "\n",
    "    plt.tight_layout()\n",
    "    plt.ylabel('True label')\n",
    "    plt.xlabel('Predicted label')"
   ]
  },
  {
   "cell_type": "code",
   "execution_count": 77,
   "metadata": {},
   "outputs": [
    {
     "name": "stdout",
     "output_type": "stream",
     "text": [
      "Normalized confusion matrix\n",
      "[[       nan        nan]\n",
      " [0.31643625 0.68356375]]\n"
     ]
    },
    {
     "data": {
      "image/png": "[encoded data removed]",
      "text/plain": [
       "<Figure size 432x288 with 2 Axes>"
      ]
     },
     "metadata": {
      "needs_background": "light"
     },
     "output_type": "display_data"
    }
   ],
   "source": [
    "# Plot normalized confusion matrix\n",
    "plt.figure()\n",
    "plot_confusion_matrix(cnf_matrix, classes=class_names, normalize=True,\n",
    "                      title='Normalized confusion matrix')\n",
    "\n",
    "plt.show()"
   ]
  },
  {
   "cell_type": "code",
   "execution_count": 78,
   "metadata": {},
   "outputs": [
    {
     "name": "stdout",
     "output_type": "stream",
     "text": [
      "AUC: 0.7744397173436118\n"
     ]
    }
   ],
   "source": [
    "y_score = logreg.fit(x_train, y_train).decision_function(x_test)\n",
    "\n",
    "fpr, tpr, thresholds = roc_curve(y_test, y_score)\n",
    "\n",
    "print('AUC: {}'.format(auc(fpr, tpr)))"
   ]
  },
  {
   "cell_type": "code",
   "execution_count": 79,
   "metadata": {},
   "outputs": [
    {
     "data": {
      "image/png": "[encoded data removed]",
      "text/plain": [
       "<Figure size 720x576 with 1 Axes>"
      ]
     },
     "metadata": {
      "needs_background": "light"
     },
     "output_type": "display_data"
    }
   ],
   "source": [
    "#sns.set_style(\"darkgrid\", {\"axes.facecolor\": \".9\"})\n",
    "\n",
    "plt.figure(figsize=(10,8))\n",
    "lw = 2\n",
    "plt.plot(fpr, tpr,\n",
    "         lw=lw, label='ROC curve')\n",
    "plt.plot([0, 1], [0, 1], lw=lw, linestyle='--')\n",
    "plt.xlim([0.0, 1.0])\n",
    "plt.ylim([0.0, 1.05])\n",
    "plt.yticks([i/20.0 for i in range(21)])\n",
    "plt.xticks([i/20.0 for i in range(21)])\n",
    "plt.xlabel('False Positive Rate')\n",
    "plt.ylabel('True Positive Rate')\n",
    "plt.title('Receiver operating characteristic (ROC) Curve')\n",
    "plt.legend(loc=\"lower right\")\n",
    "plt.show()"
   ]
  },
  {
   "cell_type": "markdown",
   "metadata": {},
   "source": [
    "# Offensive Score\n"
   ]
  },
  {
   "cell_type": "markdown",
   "metadata": {},
   "source": [
    "Below we will use feature engineering to create a new feature. This will be offensive and defensive score. The offense and defensive score categories will weight the importance of features within the offense and defense tables. We will use this new weighted score to see if/how it is a good predictor of the outcome of a game."
   ]
  },
  {
   "cell_type": "code",
   "execution_count": 80,
   "metadata": {},
   "outputs": [],
   "source": [
    "offense_h['h_offense_score'] = ((.32*df.h_three_points_pct)+(.23*df.h_two_points_pct)+\n",
    "                         (.26*df.h_free_throws_pct)+(.31*df.h_offensive_rebounds)+\n",
    "                         (.29*df.h_assists)+(.35*df.h_points)+(.25*df.h_fast_break_pts)+\n",
    "                         (.27*df.h_points_off_turnovers)-(.24*df.h_turnovers))"
   ]
  },
  {
   "cell_type": "markdown",
   "metadata": {},
   "source": [
    "Above are the weighted offensive features combined to create a new one. Turnovers is also included negatively because this impacts the offense in a negative way. I decided to use turnovers as a negative for the offense because a lot of times a turnover results from a bad offensive play versus a positive play for the defense."
   ]
  },
  {
   "cell_type": "code",
   "execution_count": 81,
   "metadata": {},
   "outputs": [],
   "source": [
    "offense_h['h_offense_score'] = round(offense_h['h_offense_score'],2)"
   ]
  },
  {
   "cell_type": "code",
   "execution_count": 82,
   "metadata": {},
   "outputs": [
    {
     "data": {
      "text/html": [
       "<div>\n",
       "<style scoped>\n",
       "    .dataframe tbody tr th:only-of-type {\n",
       "        vertical-align: middle;\n",
       "    }\n",
       "\n",
       "    .dataframe tbody tr th {\n",
       "        vertical-align: top;\n",
       "    }\n",
       "\n",
       "    .dataframe thead th {\n",
       "        text-align: right;\n",
       "    }\n",
       "</style>\n",
       "<table border=\"1\" class=\"dataframe\">\n",
       "  <thead>\n",
       "    <tr style=\"text-align: right;\">\n",
       "      <th></th>\n",
       "      <th>h_points</th>\n",
       "      <th>h_three_points_pct</th>\n",
       "      <th>h_two_points_pct</th>\n",
       "      <th>h_free_throws_pct</th>\n",
       "      <th>h_offensive_rebounds</th>\n",
       "      <th>h_assists</th>\n",
       "      <th>h_fast_break_pts</th>\n",
       "      <th>h_second_chance_pts</th>\n",
       "      <th>h_points_off_turnovers</th>\n",
       "      <th>h_offense_score</th>\n",
       "    </tr>\n",
       "  </thead>\n",
       "  <tbody>\n",
       "    <tr>\n",
       "      <th>21</th>\n",
       "      <td>93.0</td>\n",
       "      <td>41.7</td>\n",
       "      <td>62.8</td>\n",
       "      <td>60.0</td>\n",
       "      <td>14.0</td>\n",
       "      <td>20.0</td>\n",
       "      <td>0.0</td>\n",
       "      <td>32.0</td>\n",
       "      <td>40.0</td>\n",
       "      <td>95.20</td>\n",
       "    </tr>\n",
       "    <tr>\n",
       "      <th>1146</th>\n",
       "      <td>78.0</td>\n",
       "      <td>15.0</td>\n",
       "      <td>46.9</td>\n",
       "      <td>76.7</td>\n",
       "      <td>23.0</td>\n",
       "      <td>12.0</td>\n",
       "      <td>0.0</td>\n",
       "      <td>50.0</td>\n",
       "      <td>14.0</td>\n",
       "      <td>73.38</td>\n",
       "    </tr>\n",
       "    <tr>\n",
       "      <th>1176</th>\n",
       "      <td>75.0</td>\n",
       "      <td>28.6</td>\n",
       "      <td>30.6</td>\n",
       "      <td>72.4</td>\n",
       "      <td>12.0</td>\n",
       "      <td>10.0</td>\n",
       "      <td>0.0</td>\n",
       "      <td>40.0</td>\n",
       "      <td>40.0</td>\n",
       "      <td>77.48</td>\n",
       "    </tr>\n",
       "    <tr>\n",
       "      <th>2291</th>\n",
       "      <td>58.0</td>\n",
       "      <td>33.3</td>\n",
       "      <td>40.0</td>\n",
       "      <td>54.2</td>\n",
       "      <td>10.0</td>\n",
       "      <td>11.0</td>\n",
       "      <td>0.0</td>\n",
       "      <td>15.0</td>\n",
       "      <td>18.0</td>\n",
       "      <td>62.04</td>\n",
       "    </tr>\n",
       "    <tr>\n",
       "      <th>2637</th>\n",
       "      <td>79.0</td>\n",
       "      <td>50.0</td>\n",
       "      <td>60.6</td>\n",
       "      <td>77.4</td>\n",
       "      <td>2.0</td>\n",
       "      <td>13.0</td>\n",
       "      <td>0.0</td>\n",
       "      <td>2.0</td>\n",
       "      <td>14.0</td>\n",
       "      <td>83.48</td>\n",
       "    </tr>\n",
       "  </tbody>\n",
       "</table>\n",
       "</div>"
      ],
      "text/plain": [
       "      h_points  h_three_points_pct  h_two_points_pct  h_free_throws_pct  \\\n",
       "21        93.0                41.7              62.8               60.0   \n",
       "1146      78.0                15.0              46.9               76.7   \n",
       "1176      75.0                28.6              30.6               72.4   \n",
       "2291      58.0                33.3              40.0               54.2   \n",
       "2637      79.0                50.0              60.6               77.4   \n",
       "\n",
       "      h_offensive_rebounds  h_assists  h_fast_break_pts  h_second_chance_pts  \\\n",
       "21                    14.0       20.0               0.0                 32.0   \n",
       "1146                  23.0       12.0               0.0                 50.0   \n",
       "1176                  12.0       10.0               0.0                 40.0   \n",
       "2291                  10.0       11.0               0.0                 15.0   \n",
       "2637                   2.0       13.0               0.0                  2.0   \n",
       "\n",
       "      h_points_off_turnovers  h_offense_score  \n",
       "21                      40.0            95.20  \n",
       "1146                    14.0            73.38  \n",
       "1176                    40.0            77.48  \n",
       "2291                    18.0            62.04  \n",
       "2637                    14.0            83.48  "
      ]
     },
     "execution_count": 82,
     "metadata": {},
     "output_type": "execute_result"
    }
   ],
   "source": [
    "offense_h.head()"
   ]
  },
  {
   "cell_type": "markdown",
   "metadata": {},
   "source": [
    "Plot histograms of the offensive features to see the distribution"
   ]
  },
  {
   "cell_type": "code",
   "execution_count": 83,
   "metadata": {},
   "outputs": [
    {
     "data": {
      "image/png": "[encoded data removed]",
      "text/plain": [
       "<Figure size 1440x1440 with 12 Axes>"
      ]
     },
     "metadata": {
      "needs_background": "light"
     },
     "output_type": "display_data"
    }
   ],
   "source": [
    "offense_h.hist(figsize =(20,20));"
   ]
  },
  {
   "cell_type": "markdown",
   "metadata": {},
   "source": [
    "Find minimum, maximum, median, and mean values of the offensive score feature to better understand the values."
   ]
  },
  {
   "cell_type": "code",
   "execution_count": 84,
   "metadata": {},
   "outputs": [
    {
     "name": "stdout",
     "output_type": "stream",
     "text": [
      "The home offensive score mean is 78.77\n",
      "The home offensive score min is 37.95\n",
      "The home offensive score median is 78.91\n",
      "The home offensive score max is 119.93\n"
     ]
    }
   ],
   "source": [
    "h_off_mean = offense_h.h_offense_score.mean()\n",
    "h_off_min = offense_h.h_offense_score.min()\n",
    "h_off_med = offense_h.h_offense_score.median()\n",
    "h_off_max = offense_h.h_offense_score.max()\n",
    "\n",
    "print(\"The home offensive score mean is\", round(h_off_mean,2))\n",
    "print(\"The home offensive score min is\", round(h_off_min,2))\n",
    "print(\"The home offensive score median is\", round(h_off_med,2))\n",
    "print(\"The home offensive score max is\", round(h_off_max,2))"
   ]
  },
  {
   "cell_type": "markdown",
   "metadata": {},
   "source": [
    "# Defensive Score"
   ]
  },
  {
   "cell_type": "markdown",
   "metadata": {},
   "source": [
    "Below is the newly created defensive score feature. This new feature combines the weighted values of the defense tbale."
   ]
  },
  {
   "cell_type": "code",
   "execution_count": 85,
   "metadata": {},
   "outputs": [],
   "source": [
    "defense_h['h_defense_score'] = ((2.7*defense_h.h_defensive_rebounds)+\n",
    "                               (1*defense_h.h_steals)+(1*defense_h.h_blocks))\n"
   ]
  },
  {
   "cell_type": "code",
   "execution_count": 86,
   "metadata": {},
   "outputs": [
    {
     "data": {
      "image/png": "[encoded data removed]",
      "text/plain": [
       "<Figure size 720x720 with 4 Axes>"
      ]
     },
     "metadata": {
      "needs_background": "light"
     },
     "output_type": "display_data"
    }
   ],
   "source": [
    "defense_h.hist(figsize =(10,10));"
   ]
  },
  {
   "cell_type": "code",
   "execution_count": 87,
   "metadata": {},
   "outputs": [
    {
     "name": "stdout",
     "output_type": "stream",
     "text": [
      "The home deffensive score mean is 76.35\n",
      "The home deffensive score min is 23.5\n",
      "The home deffensive score median is 75.8\n",
      "The home deffensive score max is 144.2\n"
     ]
    }
   ],
   "source": [
    "h_def_mean = defense_h.h_defense_score.mean()\n",
    "h_def_min = defense_h.h_defense_score.min()\n",
    "h_def_med = defense_h.h_defense_score.median()\n",
    "h_def_max = defense_h.h_defense_score.max()\n",
    "\n",
    "print(\"The home deffensive score mean is\", round(h_def_mean,2))\n",
    "print(\"The home deffensive score min is\", round(h_def_min,2))\n",
    "print(\"The home deffensive score median is\", round(h_def_med,2))\n",
    "print(\"The home deffensive score max is\", round(h_def_max,2))"
   ]
  },
  {
   "cell_type": "markdown",
   "metadata": {},
   "source": [
    "# What features are important factors in win?"
   ]
  },
  {
   "cell_type": "markdown",
   "metadata": {},
   "source": [
    "Below we will train and test our offensive and defensive data. We will use the trained data to create a decision tree classifier to see what features are important and contributing factors to predict the outcome of a game."
   ]
  },
  {
   "cell_type": "code",
   "execution_count": 88,
   "metadata": {},
   "outputs": [
    {
     "data": {
      "text/html": [
       "<div>\n",
       "<style scoped>\n",
       "    .dataframe tbody tr th:only-of-type {\n",
       "        vertical-align: middle;\n",
       "    }\n",
       "\n",
       "    .dataframe tbody tr th {\n",
       "        vertical-align: top;\n",
       "    }\n",
       "\n",
       "    .dataframe thead th {\n",
       "        text-align: right;\n",
       "    }\n",
       "</style>\n",
       "<table border=\"1\" class=\"dataframe\">\n",
       "  <thead>\n",
       "    <tr style=\"text-align: right;\">\n",
       "      <th></th>\n",
       "      <th>h_points</th>\n",
       "      <th>h_three_points_pct</th>\n",
       "      <th>h_two_points_pct</th>\n",
       "      <th>h_free_throws_pct</th>\n",
       "      <th>h_offensive_rebounds</th>\n",
       "      <th>h_assists</th>\n",
       "      <th>h_fast_break_pts</th>\n",
       "      <th>h_second_chance_pts</th>\n",
       "      <th>h_points_off_turnovers</th>\n",
       "      <th>h_offense_score</th>\n",
       "    </tr>\n",
       "  </thead>\n",
       "  <tbody>\n",
       "    <tr>\n",
       "      <th>21</th>\n",
       "      <td>93.0</td>\n",
       "      <td>41.7</td>\n",
       "      <td>62.8</td>\n",
       "      <td>60.0</td>\n",
       "      <td>14.0</td>\n",
       "      <td>20.0</td>\n",
       "      <td>0.0</td>\n",
       "      <td>32.0</td>\n",
       "      <td>40.0</td>\n",
       "      <td>95.20</td>\n",
       "    </tr>\n",
       "    <tr>\n",
       "      <th>1146</th>\n",
       "      <td>78.0</td>\n",
       "      <td>15.0</td>\n",
       "      <td>46.9</td>\n",
       "      <td>76.7</td>\n",
       "      <td>23.0</td>\n",
       "      <td>12.0</td>\n",
       "      <td>0.0</td>\n",
       "      <td>50.0</td>\n",
       "      <td>14.0</td>\n",
       "      <td>73.38</td>\n",
       "    </tr>\n",
       "    <tr>\n",
       "      <th>1176</th>\n",
       "      <td>75.0</td>\n",
       "      <td>28.6</td>\n",
       "      <td>30.6</td>\n",
       "      <td>72.4</td>\n",
       "      <td>12.0</td>\n",
       "      <td>10.0</td>\n",
       "      <td>0.0</td>\n",
       "      <td>40.0</td>\n",
       "      <td>40.0</td>\n",
       "      <td>77.48</td>\n",
       "    </tr>\n",
       "    <tr>\n",
       "      <th>2291</th>\n",
       "      <td>58.0</td>\n",
       "      <td>33.3</td>\n",
       "      <td>40.0</td>\n",
       "      <td>54.2</td>\n",
       "      <td>10.0</td>\n",
       "      <td>11.0</td>\n",
       "      <td>0.0</td>\n",
       "      <td>15.0</td>\n",
       "      <td>18.0</td>\n",
       "      <td>62.04</td>\n",
       "    </tr>\n",
       "    <tr>\n",
       "      <th>2637</th>\n",
       "      <td>79.0</td>\n",
       "      <td>50.0</td>\n",
       "      <td>60.6</td>\n",
       "      <td>77.4</td>\n",
       "      <td>2.0</td>\n",
       "      <td>13.0</td>\n",
       "      <td>0.0</td>\n",
       "      <td>2.0</td>\n",
       "      <td>14.0</td>\n",
       "      <td>83.48</td>\n",
       "    </tr>\n",
       "  </tbody>\n",
       "</table>\n",
       "</div>"
      ],
      "text/plain": [
       "      h_points  h_three_points_pct  h_two_points_pct  h_free_throws_pct  \\\n",
       "21        93.0                41.7              62.8               60.0   \n",
       "1146      78.0                15.0              46.9               76.7   \n",
       "1176      75.0                28.6              30.6               72.4   \n",
       "2291      58.0                33.3              40.0               54.2   \n",
       "2637      79.0                50.0              60.6               77.4   \n",
       "\n",
       "      h_offensive_rebounds  h_assists  h_fast_break_pts  h_second_chance_pts  \\\n",
       "21                    14.0       20.0               0.0                 32.0   \n",
       "1146                  23.0       12.0               0.0                 50.0   \n",
       "1176                  12.0       10.0               0.0                 40.0   \n",
       "2291                  10.0       11.0               0.0                 15.0   \n",
       "2637                   2.0       13.0               0.0                  2.0   \n",
       "\n",
       "      h_points_off_turnovers  h_offense_score  \n",
       "21                      40.0            95.20  \n",
       "1146                    14.0            73.38  \n",
       "1176                    40.0            77.48  \n",
       "2291                    18.0            62.04  \n",
       "2637                    14.0            83.48  "
      ]
     },
     "execution_count": 88,
     "metadata": {},
     "output_type": "execute_result"
    }
   ],
   "source": [
    "offense_h.head()"
   ]
  },
  {
   "cell_type": "code",
   "execution_count": 89,
   "metadata": {},
   "outputs": [],
   "source": [
    "offense_h_train, offense_h_test, target_train, target_test = train_test_split(\n",
    "    offense_h, target, test_size =.25, random_state=123)"
   ]
  },
  {
   "cell_type": "code",
   "execution_count": 90,
   "metadata": {},
   "outputs": [
    {
     "data": {
      "text/plain": [
       "DecisionTreeClassifier(class_weight=None, criterion='gini', max_depth=5,\n",
       "            max_features=None, max_leaf_nodes=None,\n",
       "            min_impurity_decrease=0.0, min_impurity_split=None,\n",
       "            min_samples_leaf=1, min_samples_split=2,\n",
       "            min_weight_fraction_leaf=0.0, presort=False, random_state=None,\n",
       "            splitter='best')"
      ]
     },
     "execution_count": 90,
     "metadata": {},
     "output_type": "execute_result"
    }
   ],
   "source": [
    "tree_clf = DecisionTreeClassifier(criterion = 'gini', max_depth=5)\n",
    "tree_clf.fit(offense_h_train, target_train)"
   ]
  },
  {
   "cell_type": "code",
   "execution_count": 91,
   "metadata": {},
   "outputs": [
    {
     "data": {
      "text/plain": [
       "array([0.02240784, 0.01844134, 0.02758703, 0.07444844, 0.00123933,\n",
       "       0.        , 0.01386602, 0.        , 0.00359498, 0.83841502])"
      ]
     },
     "execution_count": 91,
     "metadata": {},
     "output_type": "execute_result"
    }
   ],
   "source": [
    "tree_clf.feature_importances_"
   ]
  },
  {
   "cell_type": "code",
   "execution_count": 92,
   "metadata": {},
   "outputs": [
    {
     "data": {
      "image/png": "[encoded data removed]",
      "text/plain": [
       "<Figure size 576x576 with 1 Axes>"
      ]
     },
     "metadata": {
      "needs_background": "light"
     },
     "output_type": "display_data"
    }
   ],
   "source": [
    "def plot_feature_importances(model):\n",
    "    n_features = offense_h_train.shape[1]\n",
    "    plt.figure(figsize=(8,8))\n",
    "    plt.barh(range(n_features), model.feature_importances_, align='center')\n",
    "    plt.yticks(np.arange(n_features), offense_h_train.columns.values)\n",
    "    plt.xlabel('Features importance')\n",
    "    plt.ylabel('feature')\n",
    "plot_feature_importances(tree_clf)    "
   ]
  },
  {
   "cell_type": "markdown",
   "metadata": {},
   "source": [
    "The graph above shows that our value of offensive score is a good predictor of what will win a basketball game."
   ]
  },
  {
   "cell_type": "code",
   "execution_count": 93,
   "metadata": {},
   "outputs": [],
   "source": [
    "#defensive score test\n",
    "defense_h_train, defense_h_test, target_train, target_test = train_test_split(\n",
    "    defense_h, target, test_size =.25, random_state=123)"
   ]
  },
  {
   "cell_type": "code",
   "execution_count": 94,
   "metadata": {},
   "outputs": [
    {
     "data": {
      "text/plain": [
       "DecisionTreeClassifier(class_weight=None, criterion='gini', max_depth=5,\n",
       "            max_features=None, max_leaf_nodes=None,\n",
       "            min_impurity_decrease=0.0, min_impurity_split=None,\n",
       "            min_samples_leaf=1, min_samples_split=2,\n",
       "            min_weight_fraction_leaf=0.0, presort=False, random_state=None,\n",
       "            splitter='best')"
      ]
     },
     "execution_count": 94,
     "metadata": {},
     "output_type": "execute_result"
    }
   ],
   "source": [
    "tree_clf = DecisionTreeClassifier(criterion = 'gini', max_depth=5)\n",
    "tree_clf.fit(defense_h_train, target_train)"
   ]
  },
  {
   "cell_type": "code",
   "execution_count": 95,
   "metadata": {},
   "outputs": [
    {
     "data": {
      "text/plain": [
       "array([0.0156877 , 0.13395583, 0.01391268, 0.83644379])"
      ]
     },
     "execution_count": 95,
     "metadata": {},
     "output_type": "execute_result"
    }
   ],
   "source": [
    "tree_clf.feature_importances_"
   ]
  },
  {
   "cell_type": "code",
   "execution_count": 96,
   "metadata": {},
   "outputs": [
    {
     "data": {
      "image/png": "[encoded data removed]",
      "text/plain": [
       "<Figure size 576x576 with 1 Axes>"
      ]
     },
     "metadata": {
      "needs_background": "light"
     },
     "output_type": "display_data"
    }
   ],
   "source": [
    "def plot_feature_importances(model):\n",
    "    n_features = defense_h_train.shape[1]\n",
    "    plt.figure(figsize=(8,8))\n",
    "    plt.barh(range(n_features), model.feature_importances_, align='center')\n",
    "    plt.yticks(np.arange(n_features), defense_h_train.columns.values)\n",
    "    plt.xlabel('Features importance')\n",
    "    plt.ylabel('feature')\n",
    "plot_feature_importances(tree_clf)    "
   ]
  },
  {
   "cell_type": "markdown",
   "metadata": {},
   "source": [
    "The above graph shows our defensive score is a good predictor for the outcome of a game.\n",
    "Below we will drop the defense score to see how individual categories predict outcome of a game."
   ]
  },
  {
   "cell_type": "code",
   "execution_count": 97,
   "metadata": {},
   "outputs": [],
   "source": [
    "#drop defense score\n",
    "A_dh = defense_h[['h_defensive_rebounds', 'h_steals', 'h_blocks', ]]"
   ]
  },
  {
   "cell_type": "code",
   "execution_count": 98,
   "metadata": {},
   "outputs": [],
   "source": [
    "A_dh_train, A_dh_test, target_train, target_test = train_test_split(\n",
    "    A_dh, target, test_size =.25, random_state=123)"
   ]
  },
  {
   "cell_type": "code",
   "execution_count": 99,
   "metadata": {},
   "outputs": [
    {
     "data": {
      "text/plain": [
       "DecisionTreeClassifier(class_weight=None, criterion='gini', max_depth=5,\n",
       "            max_features=None, max_leaf_nodes=None,\n",
       "            min_impurity_decrease=0.0, min_impurity_split=None,\n",
       "            min_samples_leaf=1, min_samples_split=2,\n",
       "            min_weight_fraction_leaf=0.0, presort=False, random_state=None,\n",
       "            splitter='best')"
      ]
     },
     "execution_count": 99,
     "metadata": {},
     "output_type": "execute_result"
    }
   ],
   "source": [
    "tree_clf = DecisionTreeClassifier(criterion = 'gini', max_depth=5)\n",
    "tree_clf.fit(A_dh_train, target_train)"
   ]
  },
  {
   "cell_type": "code",
   "execution_count": 100,
   "metadata": {},
   "outputs": [
    {
     "data": {
      "text/plain": [
       "array([0.70586726, 0.23972917, 0.05440358])"
      ]
     },
     "execution_count": 100,
     "metadata": {},
     "output_type": "execute_result"
    }
   ],
   "source": [
    "tree_clf.feature_importances_"
   ]
  },
  {
   "cell_type": "code",
   "execution_count": 101,
   "metadata": {},
   "outputs": [
    {
     "data": {
      "image/png": "[encoded data removed]",
      "text/plain": [
       "<Figure size 576x576 with 1 Axes>"
      ]
     },
     "metadata": {
      "needs_background": "light"
     },
     "output_type": "display_data"
    }
   ],
   "source": [
    "def plot_feature_importances(model):\n",
    "    n_features = A_dh_train.shape[1]\n",
    "    plt.figure(figsize=(8,8))\n",
    "    plt.barh(range(n_features), model.feature_importances_, align='center')\n",
    "    plt.yticks(np.arange(n_features), A_dh_train.columns.values)\n",
    "    plt.xlabel('Features importance')\n",
    "    plt.ylabel('feature')\n",
    "plot_feature_importances(tree_clf)    "
   ]
  },
  {
   "cell_type": "markdown",
   "metadata": {},
   "source": [
    "#### Drop offense score\n",
    "Below we dropped the offense score to see what individual categories impact the outcome of a game"
   ]
  },
  {
   "cell_type": "code",
   "execution_count": 102,
   "metadata": {},
   "outputs": [],
   "source": [
    "#drop offensive score to see how it predicts\n",
    "A_oh = offense_h[['h_points', 'h_three_points_pct', 'h_two_points_pct', \n",
    "                'h_free_throws_pct', 'h_offensive_rebounds', 'h_assists', \n",
    "                'h_fast_break_pts', 'h_second_chance_pts', 'h_points_off_turnovers']]\n",
    "\n",
    "\n"
   ]
  },
  {
   "cell_type": "code",
   "execution_count": 103,
   "metadata": {},
   "outputs": [],
   "source": [
    "A_oh_train, A_oh_test, target_train, target_test = train_test_split(\n",
    "    A_oh, target, test_size =.25, random_state=123)"
   ]
  },
  {
   "cell_type": "code",
   "execution_count": 104,
   "metadata": {},
   "outputs": [
    {
     "data": {
      "text/plain": [
       "DecisionTreeClassifier(class_weight=None, criterion='gini', max_depth=5,\n",
       "            max_features=None, max_leaf_nodes=None,\n",
       "            min_impurity_decrease=0.0, min_impurity_split=None,\n",
       "            min_samples_leaf=1, min_samples_split=2,\n",
       "            min_weight_fraction_leaf=0.0, presort=False, random_state=None,\n",
       "            splitter='best')"
      ]
     },
     "execution_count": 104,
     "metadata": {},
     "output_type": "execute_result"
    }
   ],
   "source": [
    "tree_clf = DecisionTreeClassifier(criterion = 'gini', max_depth=5)\n",
    "tree_clf.fit(A_oh_train, target_train)"
   ]
  },
  {
   "cell_type": "code",
   "execution_count": 105,
   "metadata": {},
   "outputs": [
    {
     "data": {
      "text/plain": [
       "array([0.73341684, 0.03844897, 0.06086536, 0.00390134, 0.        ,\n",
       "       0.05315196, 0.        , 0.03264372, 0.07757181])"
      ]
     },
     "execution_count": 105,
     "metadata": {},
     "output_type": "execute_result"
    }
   ],
   "source": [
    "tree_clf.feature_importances_"
   ]
  },
  {
   "cell_type": "code",
   "execution_count": 106,
   "metadata": {},
   "outputs": [
    {
     "data": {
      "image/png": "[encoded data removed]",
      "text/plain": [
       "<Figure size 576x576 with 1 Axes>"
      ]
     },
     "metadata": {
      "needs_background": "light"
     },
     "output_type": "display_data"
    }
   ],
   "source": [
    "def plot_feature_importances(model):\n",
    "    n_features = A_oh_train.shape[1]\n",
    "    plt.figure(figsize=(8,8))\n",
    "    plt.barh(range(n_features), model.feature_importances_, align='center')\n",
    "    plt.yticks(np.arange(n_features), A_oh_train.columns.values)\n",
    "    plt.xlabel('Features importance')\n",
    "    plt.ylabel('feature')\n",
    "plot_feature_importances(tree_clf)    "
   ]
  },
  {
   "cell_type": "markdown",
   "metadata": {},
   "source": [
    "As you can see points is the biggest factor in predicting the outcome of a game. This is not surprsing because it is points specifically that tells you whether you win or loose. To have a better understanding of the factors contributing to a win, the points feature will also be removed."
   ]
  },
  {
   "cell_type": "code",
   "execution_count": 107,
   "metadata": {},
   "outputs": [],
   "source": [
    "#dropped offense score and points to see how it's affected\n",
    "B_oh = offense_h[['h_three_points_pct', 'h_two_points_pct', \n",
    "                'h_free_throws_pct', 'h_offensive_rebounds', 'h_assists',\n",
    "                'h_fast_break_pts', 'h_second_chance_pts', 'h_points_off_turnovers']]\n"
   ]
  },
  {
   "cell_type": "code",
   "execution_count": 108,
   "metadata": {},
   "outputs": [],
   "source": [
    "B_oh_train, B_oh_test, target_train, target_test = train_test_split(\n",
    "    B_oh, target, test_size =.25, random_state=123)"
   ]
  },
  {
   "cell_type": "code",
   "execution_count": 109,
   "metadata": {},
   "outputs": [
    {
     "data": {
      "text/plain": [
       "DecisionTreeClassifier(class_weight=None, criterion='gini', max_depth=5,\n",
       "            max_features=None, max_leaf_nodes=None,\n",
       "            min_impurity_decrease=0.0, min_impurity_split=None,\n",
       "            min_samples_leaf=1, min_samples_split=2,\n",
       "            min_weight_fraction_leaf=0.0, presort=False, random_state=None,\n",
       "            splitter='best')"
      ]
     },
     "execution_count": 109,
     "metadata": {},
     "output_type": "execute_result"
    }
   ],
   "source": [
    "tree_clf = DecisionTreeClassifier(criterion = 'gini', max_depth=5)\n",
    "tree_clf.fit(B_oh_train, target_train)"
   ]
  },
  {
   "cell_type": "code",
   "execution_count": 110,
   "metadata": {},
   "outputs": [
    {
     "data": {
      "text/plain": [
       "array([0.16227116, 0.17419837, 0.05676571, 0.03347115, 0.35694103,\n",
       "       0.02088998, 0.01815181, 0.17731079])"
      ]
     },
     "execution_count": 110,
     "metadata": {},
     "output_type": "execute_result"
    }
   ],
   "source": [
    "tree_clf.feature_importances_"
   ]
  },
  {
   "cell_type": "code",
   "execution_count": 111,
   "metadata": {},
   "outputs": [
    {
     "data": {
      "image/png": "[encoded data removed]",
      "text/plain": [
       "<Figure size 576x576 with 1 Axes>"
      ]
     },
     "metadata": {
      "needs_background": "light"
     },
     "output_type": "display_data"
    }
   ],
   "source": [
    "def plot_feature_importances(model):\n",
    "    n_features = B_oh_train.shape[1]\n",
    "    plt.figure(figsize=(8,8))\n",
    "    plt.barh(range(n_features), model.feature_importances_, align='center')\n",
    "    plt.yticks(np.arange(n_features), B_oh_train.columns.values)\n",
    "    plt.xlabel('Features importance')\n",
    "    plt.ylabel('feature')\n",
    "plot_feature_importances(tree_clf)    "
   ]
  },
  {
   "cell_type": "markdown",
   "metadata": {},
   "source": [
    "The above graph shows how assists impacts the outcome of a game. When thinking about this further, we see how this makes sense. An assist is recorded when a player passes the ball to their teammate and he/she shots and makes a basket. This leads to points, which as we know leads to wins. We will run this one more time, removing the assits feature."
   ]
  },
  {
   "cell_type": "code",
   "execution_count": 112,
   "metadata": {},
   "outputs": [],
   "source": [
    "#drop offensive score, points, assists \n",
    "C_oh = offense_h[['h_three_points_pct', 'h_two_points_pct', \n",
    "                'h_free_throws_pct', 'h_offensive_rebounds',\n",
    "                'h_fast_break_pts', 'h_second_chance_pts', 'h_points_off_turnovers']]\n"
   ]
  },
  {
   "cell_type": "code",
   "execution_count": 113,
   "metadata": {},
   "outputs": [],
   "source": [
    "C_oh_train, C_oh_test, target_train, target_test = train_test_split(\n",
    "    C_oh, target, test_size =.25, random_state=123)"
   ]
  },
  {
   "cell_type": "code",
   "execution_count": 114,
   "metadata": {},
   "outputs": [
    {
     "data": {
      "text/plain": [
       "DecisionTreeClassifier(class_weight=None, criterion='gini', max_depth=5,\n",
       "            max_features=None, max_leaf_nodes=None,\n",
       "            min_impurity_decrease=0.0, min_impurity_split=None,\n",
       "            min_samples_leaf=1, min_samples_split=2,\n",
       "            min_weight_fraction_leaf=0.0, presort=False, random_state=None,\n",
       "            splitter='best')"
      ]
     },
     "execution_count": 114,
     "metadata": {},
     "output_type": "execute_result"
    }
   ],
   "source": [
    "tree_clf = DecisionTreeClassifier(criterion = 'gini', max_depth=5)\n",
    "tree_clf.fit(C_oh_train, target_train)"
   ]
  },
  {
   "cell_type": "code",
   "execution_count": 115,
   "metadata": {},
   "outputs": [
    {
     "data": {
      "text/plain": [
       "array([0.32294452, 0.35823837, 0.05018067, 0.02190502, 0.05682276,\n",
       "       0.02090978, 0.16899888])"
      ]
     },
     "execution_count": 115,
     "metadata": {},
     "output_type": "execute_result"
    }
   ],
   "source": [
    "tree_clf.feature_importances_"
   ]
  },
  {
   "cell_type": "code",
   "execution_count": 116,
   "metadata": {},
   "outputs": [
    {
     "data": {
      "image/png": "[encoded data removed]",
      "text/plain": [
       "<Figure size 576x576 with 1 Axes>"
      ]
     },
     "metadata": {
      "needs_background": "light"
     },
     "output_type": "display_data"
    }
   ],
   "source": [
    "def plot_feature_importances(model):\n",
    "    n_features = C_oh_train.shape[1]\n",
    "    plt.figure(figsize=(8,8))\n",
    "    plt.barh(range(n_features), model.feature_importances_, align='center')\n",
    "    plt.yticks(np.arange(n_features), C_oh_train.columns.values)\n",
    "    plt.xlabel('Features importance')\n",
    "    plt.ylabel('feature')\n",
    "plot_feature_importances(tree_clf)    "
   ]
  },
  {
   "cell_type": "markdown",
   "metadata": {},
   "source": [
    "When removing features we see that two point percentage has the highest importance for predicting the outcome of a game, followed by three point percentage. "
   ]
  },
  {
   "cell_type": "code",
   "execution_count": 117,
   "metadata": {},
   "outputs": [
    {
     "name": "stdout",
     "output_type": "stream",
     "text": [
      "(4155, 91)\n"
     ]
    },
    {
     "data": {
      "text/html": [
       "<div>\n",
       "<style scoped>\n",
       "    .dataframe tbody tr th:only-of-type {\n",
       "        vertical-align: middle;\n",
       "    }\n",
       "\n",
       "    .dataframe tbody tr th {\n",
       "        vertical-align: top;\n",
       "    }\n",
       "\n",
       "    .dataframe thead th {\n",
       "        text-align: right;\n",
       "    }\n",
       "</style>\n",
       "<table border=\"1\" class=\"dataframe\">\n",
       "  <thead>\n",
       "    <tr style=\"text-align: right;\">\n",
       "      <th></th>\n",
       "      <th>game_id</th>\n",
       "      <th>season</th>\n",
       "      <th>scheduled_date</th>\n",
       "      <th>attendance</th>\n",
       "      <th>lead_changes</th>\n",
       "      <th>times_tied</th>\n",
       "      <th>periods</th>\n",
       "      <th>venue_city</th>\n",
       "      <th>venue_name</th>\n",
       "      <th>venue_capacity</th>\n",
       "      <th>...</th>\n",
       "      <th>a_personal_fouls</th>\n",
       "      <th>a_points</th>\n",
       "      <th>a_fast_break_pts</th>\n",
       "      <th>a_second_chance_pts</th>\n",
       "      <th>a_team_turnovers</th>\n",
       "      <th>a_points_off_turnovers</th>\n",
       "      <th>a_team_rebounds</th>\n",
       "      <th>a_flagrant_fouls</th>\n",
       "      <th>a_player_tech_fouls</th>\n",
       "      <th>win_h</th>\n",
       "    </tr>\n",
       "  </thead>\n",
       "  <tbody>\n",
       "    <tr>\n",
       "      <th>0</th>\n",
       "      <td>0557a5b2-0320-4f7d-aa72-f871c01cfd63</td>\n",
       "      <td>2015</td>\n",
       "      <td>2015-11-16</td>\n",
       "      <td>3427.0</td>\n",
       "      <td>0.0</td>\n",
       "      <td>1.0</td>\n",
       "      <td>2.0</td>\n",
       "      <td>Stanford</td>\n",
       "      <td>Maples Pavilion</td>\n",
       "      <td>7392.0</td>\n",
       "      <td>...</td>\n",
       "      <td>30.0</td>\n",
       "      <td>65.0</td>\n",
       "      <td>0.0</td>\n",
       "      <td>13.0</td>\n",
       "      <td>2.0</td>\n",
       "      <td>6.0</td>\n",
       "      <td>4.0</td>\n",
       "      <td>0.0</td>\n",
       "      <td>0.0</td>\n",
       "      <td>1.0</td>\n",
       "    </tr>\n",
       "    <tr>\n",
       "      <th>1</th>\n",
       "      <td>f12a8bfb-a4ef-4953-96a3-266cb81c5a0b</td>\n",
       "      <td>2015</td>\n",
       "      <td>2015-11-14</td>\n",
       "      <td>6904.0</td>\n",
       "      <td>20.0</td>\n",
       "      <td>8.0</td>\n",
       "      <td>2.0</td>\n",
       "      <td>Winston-Salem</td>\n",
       "      <td>Lawrence Joel Veterans Memorial Coliseum</td>\n",
       "      <td>14665.0</td>\n",
       "      <td>...</td>\n",
       "      <td>27.0</td>\n",
       "      <td>73.0</td>\n",
       "      <td>0.0</td>\n",
       "      <td>14.0</td>\n",
       "      <td>0.0</td>\n",
       "      <td>34.0</td>\n",
       "      <td>4.0</td>\n",
       "      <td>0.0</td>\n",
       "      <td>0.0</td>\n",
       "      <td>1.0</td>\n",
       "    </tr>\n",
       "  </tbody>\n",
       "</table>\n",
       "<p>2 rows × 91 columns</p>\n",
       "</div>"
      ],
      "text/plain": [
       "                                game_id  season scheduled_date  attendance  \\\n",
       "0  0557a5b2-0320-4f7d-aa72-f871c01cfd63    2015     2015-11-16      3427.0   \n",
       "1  f12a8bfb-a4ef-4953-96a3-266cb81c5a0b    2015     2015-11-14      6904.0   \n",
       "\n",
       "   lead_changes  times_tied  periods     venue_city  \\\n",
       "0           0.0         1.0      2.0       Stanford   \n",
       "1          20.0         8.0      2.0  Winston-Salem   \n",
       "\n",
       "                                 venue_name  venue_capacity  ...  \\\n",
       "0                           Maples Pavilion          7392.0  ...   \n",
       "1  Lawrence Joel Veterans Memorial Coliseum         14665.0  ...   \n",
       "\n",
       "  a_personal_fouls a_points a_fast_break_pts a_second_chance_pts  \\\n",
       "0             30.0     65.0              0.0                13.0   \n",
       "1             27.0     73.0              0.0                14.0   \n",
       "\n",
       "  a_team_turnovers a_points_off_turnovers  a_team_rebounds a_flagrant_fouls  \\\n",
       "0              2.0                    6.0              4.0              0.0   \n",
       "1              0.0                   34.0              4.0              0.0   \n",
       "\n",
       "   a_player_tech_fouls  win_h  \n",
       "0                  0.0    1.0  \n",
       "1                  0.0    1.0  \n",
       "\n",
       "[2 rows x 91 columns]"
      ]
     },
     "execution_count": 117,
     "metadata": {},
     "output_type": "execute_result"
    }
   ],
   "source": [
    "print(ncaa.shape)\n",
    "ncaa.head(2)"
   ]
  },
  {
   "cell_type": "markdown",
   "metadata": {},
   "source": [
    "# Is there home court advantage?"
   ]
  },
  {
   "cell_type": "code",
   "execution_count": 118,
   "metadata": {},
   "outputs": [
    {
     "name": "stdout",
     "output_type": "stream",
     "text": [
      "(2847, 91)\n",
      "(1308, 91)\n"
     ]
    }
   ],
   "source": [
    "home_win = ncaa[ncaa['win_h'] == 1.0]\n",
    "print(home_win.shape)\n",
    "\n",
    "home_loss = ncaa[ncaa['win_h'] == 0]\n",
    "print(home_loss.shape)"
   ]
  },
  {
   "cell_type": "code",
   "execution_count": 119,
   "metadata": {},
   "outputs": [
    {
     "name": "stdout",
     "output_type": "stream",
     "text": [
      "(1308, 91)\n",
      "(2847, 91)\n"
     ]
    }
   ],
   "source": [
    "away_win = ncaa[ncaa['win_h'] == 0]\n",
    "print(away_win.shape)\n",
    "\n",
    "away_loss = ncaa[ncaa['win_h'] == 1.0]\n",
    "print(away_loss.shape)"
   ]
  },
  {
   "cell_type": "code",
   "execution_count": 120,
   "metadata": {},
   "outputs": [
    {
     "data": {
      "text/plain": [
       "68.51985559566786"
      ]
     },
     "execution_count": 120,
     "metadata": {},
     "output_type": "execute_result"
    }
   ],
   "source": [
    "home_win_pct = ((home_win.shape[0])/(home_win.shape[0] + home_loss.shape[0]))*100\n",
    "home_win_pct"
   ]
  },
  {
   "cell_type": "markdown",
   "metadata": {},
   "source": [
    "The tests above show that the home team wins 68% of the time. This shows that there is some home court advatage, but 68% seems rather high. This could be affected by tournament games and neutral sites. Thhese features were removed from the data set because they had a large amount of null values. One way these fetaures could increase home winning percentage is often in tournament games the higher seed is considered the home team."
   ]
  },
  {
   "cell_type": "markdown",
   "metadata": {},
   "source": [
    "# How many points do you need to win?\n",
    "First find the mean points scored by both teams, home and away."
   ]
  },
  {
   "cell_type": "code",
   "execution_count": 121,
   "metadata": {},
   "outputs": [
    {
     "data": {
      "text/plain": [
       "76.15451263537906"
      ]
     },
     "execution_count": 121,
     "metadata": {},
     "output_type": "execute_result"
    }
   ],
   "source": [
    "h_points_mean = ncaa.h_points.mean()\n",
    "h_points_mean"
   ]
  },
  {
   "cell_type": "code",
   "execution_count": 122,
   "metadata": {},
   "outputs": [
    {
     "data": {
      "text/plain": [
       "69.13983152827919"
      ]
     },
     "execution_count": 122,
     "metadata": {},
     "output_type": "execute_result"
    }
   ],
   "source": [
    "a_points_mean = ncaa.a_points.mean()\n",
    "a_points_mean"
   ]
  },
  {
   "cell_type": "markdown",
   "metadata": {},
   "source": [
    "It is not surprising the mean points scored for the home team is higher than away given that we found the home team wins about 68.5% of the time. We will continue running tests for the home team."
   ]
  },
  {
   "cell_type": "code",
   "execution_count": 123,
   "metadata": {},
   "outputs": [],
   "source": [
    "pts_game = ncaa[ncaa['h_points'] >= 75]\n",
    "pts_win = pts_game[pts_game['win_h'] == 1.0]"
   ]
  },
  {
   "cell_type": "code",
   "execution_count": 124,
   "metadata": {},
   "outputs": [
    {
     "name": "stdout",
     "output_type": "stream",
     "text": [
      "(2297, 91)\n",
      "(1964, 91)\n"
     ]
    }
   ],
   "source": [
    "print(pts_game.shape)\n",
    "print(pts_win.shape)"
   ]
  },
  {
   "cell_type": "markdown",
   "metadata": {},
   "source": [
    "The first values, points per game, is the number of times the home team scored 75 or more points in the game. The second set is the number of times the home team scored 75 or mores points and won the game. We will use this values to see how often a team can score 75 points and win."
   ]
  },
  {
   "cell_type": "code",
   "execution_count": 125,
   "metadata": {},
   "outputs": [
    {
     "data": {
      "text/plain": [
       "85.50282977797127"
      ]
     },
     "execution_count": 125,
     "metadata": {},
     "output_type": "execute_result"
    }
   ],
   "source": [
    "win_pct = (pts_win.shape[0])/(pts_game.shape[0])*100\n",
    "win_pct"
   ]
  },
  {
   "cell_type": "markdown",
   "metadata": {},
   "source": [
    "If the home team score 75 points, they will win 85% of the time."
   ]
  },
  {
   "cell_type": "code",
   "execution_count": 126,
   "metadata": {},
   "outputs": [],
   "source": [
    "w = ncaa.loc[ncaa[\"win_h\"] == 1.0]\n",
    "l = ncaa.loc[ncaa[\"win_h\"] == 0]"
   ]
  },
  {
   "cell_type": "code",
   "execution_count": 127,
   "metadata": {},
   "outputs": [
    {
     "data": {
      "image/png": "[encoded data removed]",
      "text/plain": [
       "<Figure size 432x288 with 1 Axes>"
      ]
     },
     "metadata": {
      "needs_background": "light"
     },
     "output_type": "display_data"
    }
   ],
   "source": [
    "win = w.h_points\n",
    "loss = l.h_points\n",
    "plt.hist(win, alpha=0.5, bins=30, align='mid', label='Win', color='green')\n",
    "plt.hist(loss, alpha=0.5, bins=30, align='mid', label='Loss', color='blue')\n",
    "plt.xlim(20,140)\n",
    "plt.locator_params(axis='x', nbins=12)\n",
    "plt.xlabel('Points per Game', fontsize=12)\n",
    "plt.ylabel('Total Games', fontsize=12)\n",
    "plt.legend()\n",
    "plt.title('Points per Game leading to a Win/Loss', fontsize=14);"
   ]
  },
  {
   "cell_type": "markdown",
   "metadata": {},
   "source": [
    "# What 2pt% do you need to win the game???\n",
    "Start by finding the average two point score percentage "
   ]
  },
  {
   "cell_type": "code",
   "execution_count": 128,
   "metadata": {},
   "outputs": [
    {
     "data": {
      "text/plain": [
       "51.80897063778587"
      ]
     },
     "execution_count": 128,
     "metadata": {},
     "output_type": "execute_result"
    }
   ],
   "source": [
    "h_two_pct_mean = ncaa.h_two_points_pct.mean()\n",
    "h_two_pct_mean"
   ]
  },
  {
   "cell_type": "code",
   "execution_count": 129,
   "metadata": {},
   "outputs": [],
   "source": [
    "two_pct_game = ncaa[ncaa['h_two_points_pct'] >= 60]\n",
    "two_pct_win = two_pct_game[two_pct_game['win_h'] == 1.0]"
   ]
  },
  {
   "cell_type": "code",
   "execution_count": 130,
   "metadata": {},
   "outputs": [
    {
     "name": "stdout",
     "output_type": "stream",
     "text": [
      "(844, 91)\n",
      "(746, 91)\n"
     ]
    }
   ],
   "source": [
    "print(two_pct_game.shape)\n",
    "print(two_pct_win.shape)"
   ]
  },
  {
   "cell_type": "markdown",
   "metadata": {},
   "source": [
    "The first values, two point percentage, is percentrage of made two point shots during the game. The second set is the percentage of made two points shots during the game that lead to a win. We will use this values to see how often a team can shoot and make 60% of their two point shots."
   ]
  },
  {
   "cell_type": "code",
   "execution_count": 131,
   "metadata": {},
   "outputs": [
    {
     "data": {
      "text/plain": [
       "88.38862559241706"
      ]
     },
     "execution_count": 131,
     "metadata": {},
     "output_type": "execute_result"
    }
   ],
   "source": [
    "win_pct = (two_pct_win.shape[0])/(two_pct_game.shape[0])*100\n",
    "win_pct"
   ]
  },
  {
   "cell_type": "markdown",
   "metadata": {},
   "source": [
    "This shows that when the home team shoots 60% for two points shots during a game they will win 88% of the time."
   ]
  },
  {
   "cell_type": "code",
   "execution_count": 132,
   "metadata": {},
   "outputs": [
    {
     "data": {
      "image/png": "[encoded data removed]",
      "text/plain": [
       "<Figure size 432x288 with 1 Axes>"
      ]
     },
     "metadata": {
      "needs_background": "light"
     },
     "output_type": "display_data"
    }
   ],
   "source": [
    "win = w.h_two_points_pct\n",
    "loss = l.h_two_points_pct\n",
    "plt.hist(win, alpha=0.5, bins=30, align='mid', label='Win', color='green')\n",
    "plt.hist(loss, alpha=0.5, bins=30, align='mid', label='Loss', color='blue')\n",
    "plt.xlim(0,100)\n",
    "plt.locator_params(axis='x', nbins=12)\n",
    "plt.xlabel('Two Point Pct for Game', fontsize=14)\n",
    "plt.ylabel('Total Games', fontsize=14)\n",
    "plt.legend()\n",
    "plt.title('Two Point Pct for Game vs Win/Loss', fontsize=16);"
   ]
  },
  {
   "cell_type": "markdown",
   "metadata": {},
   "source": [
    "# What 3pt% do you need to win the game???"
   ]
  },
  {
   "cell_type": "markdown",
   "metadata": {},
   "source": [
    "Find the average of three points made during the game"
   ]
  },
  {
   "cell_type": "code",
   "execution_count": 133,
   "metadata": {},
   "outputs": [
    {
     "data": {
      "text/plain": [
       "36.06264741275572"
      ]
     },
     "execution_count": 133,
     "metadata": {},
     "output_type": "execute_result"
    }
   ],
   "source": [
    "h_three_pct_mean = ncaa.h_three_points_pct.mean()\n",
    "h_three_pct_mean"
   ]
  },
  {
   "cell_type": "code",
   "execution_count": 134,
   "metadata": {},
   "outputs": [],
   "source": [
    "three_pct_game = ncaa[ncaa['h_three_points_pct'] >= 45]\n",
    "three_pct_win = three_pct_game[three_pct_game['win_h'] == 1.0]"
   ]
  },
  {
   "cell_type": "code",
   "execution_count": 135,
   "metadata": {},
   "outputs": [
    {
     "name": "stdout",
     "output_type": "stream",
     "text": [
      "(849, 91)\n",
      "(755, 91)\n"
     ]
    }
   ],
   "source": [
    "print(three_pct_game.shape)\n",
    "print(three_pct_win.shape)"
   ]
  },
  {
   "cell_type": "markdown",
   "metadata": {},
   "source": [
    "The first values, Three percentage, is number of times the home teams made 45% of their threes during the game. The second set is the number of times the home team made 45% of threes and won the game. We will use this values to see how often a team can make 45% of their threes and win."
   ]
  },
  {
   "cell_type": "code",
   "execution_count": 136,
   "metadata": {},
   "outputs": [
    {
     "data": {
      "text/plain": [
       "88.92815076560659"
      ]
     },
     "execution_count": 136,
     "metadata": {},
     "output_type": "execute_result"
    }
   ],
   "source": [
    "win_pct = (three_pct_win.shape[0])/(three_pct_game.shape[0])*100\n",
    "win_pct"
   ]
  },
  {
   "cell_type": "markdown",
   "metadata": {},
   "source": [
    "When the home team makes 45% of their three point shots they will win 89% of the time."
   ]
  },
  {
   "cell_type": "code",
   "execution_count": 137,
   "metadata": {},
   "outputs": [
    {
     "data": {
      "image/png": "[encoded data removed]",
      "text/plain": [
       "<Figure size 432x288 with 1 Axes>"
      ]
     },
     "metadata": {
      "needs_background": "light"
     },
     "output_type": "display_data"
    }
   ],
   "source": [
    "win = w.h_three_points_pct\n",
    "loss = l.h_three_points_pct\n",
    "plt.hist(win, alpha=0.5, bins=30, align='mid', label='Win', color='green')\n",
    "plt.hist(loss, alpha=0.5, bins=30, align='mid', label='Loss', color='blue')\n",
    "plt.xlim(0,100)\n",
    "plt.locator_params(axis='x', nbins=12)\n",
    "plt.xlabel('Three Point Pct for Game', fontsize=14)\n",
    "plt.ylabel('Total Games', fontsize=14)\n",
    "plt.legend()\n",
    "plt.title('Three Point Pct for Game vs Win/Loss', fontsize=16);"
   ]
  },
  {
   "cell_type": "code",
   "execution_count": null,
   "metadata": {},
   "outputs": [],
   "source": []
  }
 ],
 "metadata": {
  "kernelspec": {
   "display_name": "Python 3",
   "language": "python",
   "name": "python3"
  },
  "language_info": {
   "codemirror_mode": {
    "name": "ipython",
    "version": 3
   },
   "file_extension": ".py",
   "mimetype": "text/x-python",
   "name": "python",
   "nbconvert_exporter": "python",
   "pygments_lexer": "ipython3",
   "version": "3.7.2"
  }
 },
 "nbformat": 4,
 "nbformat_minor": 2
}
